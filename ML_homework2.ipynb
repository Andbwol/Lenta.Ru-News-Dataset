{
  "cells": [
    {
      "cell_type": "markdown",
      "metadata": {
        "id": "view-in-github",
        "colab_type": "text"
      },
      "source": [
        "<a href=\"https://colab.research.google.com/github/Andbwol/Lenta.Ru-News-Dataset/blob/master/ML_homework2.ipynb\" target=\"_parent\"><img src=\"https://colab.research.google.com/assets/colab-badge.svg\" alt=\"Open In Colab\"/></a>"
      ]
    },
    {
      "cell_type": "code",
      "execution_count": null,
      "metadata": {
        "id": "z6eUSawdl1Qe"
      },
      "outputs": [],
      "source": [
        "import pandas as pd\n",
        "import re\n",
        "import pymorphy2\n",
        "import joblib as pickle"
      ],
      "id": "z6eUSawdl1Qe"
    },
    {
      "cell_type": "code",
      "execution_count": null,
      "metadata": {
        "id": "8kINrAYbl1Qk"
      },
      "outputs": [],
      "source": [
        "from sklearn.model_selection import train_test_split\n",
        "from sklearn.preprocessing import LabelEncoder\n",
        "from sklearn.metrics import f1_score\n",
        "from nltk.corpus import stopwords\n",
        "from sklearn.feature_extraction.text import TfidfVectorizer\n",
        "import nltk\n",
        "from sklearn import tree"
      ],
      "id": "8kINrAYbl1Qk"
    },
    {
      "cell_type": "code",
      "execution_count": null,
      "metadata": {
        "id": "eyWpta0Sl1Ql",
        "outputId": "b7534e2d-f57e-4ca3-c3ab-2bfede2fe695"
      },
      "outputs": [
        {
          "name": "stderr",
          "output_type": "stream",
          "text": [
            "/Users/18827990/DA_4/lec_venv/lib/python3.6/site-packages/IPython/core/interactiveshell.py:3072: DtypeWarning: Columns (3) have mixed types.Specify dtype option on import or set low_memory=False.\n",
            "  interactivity=interactivity, compiler=compiler, result=result)\n"
          ]
        }
      ],
      "source": [
        "df = pd.read_csv('lenta-ru-news.csv')"
      ],
      "id": "eyWpta0Sl1Ql"
    },
    {
      "cell_type": "code",
      "execution_count": null,
      "metadata": {
        "id": "FdlJ1tM_l1Qn",
        "outputId": "10ccc944-d042-4791-e0c2-6084949bfca6"
      },
      "outputs": [
        {
          "data": {
            "text/plain": [
              "(800975, 6)"
            ]
          },
          "execution_count": 4,
          "metadata": {},
          "output_type": "execute_result"
        }
      ],
      "source": [
        "df.shape"
      ],
      "id": "FdlJ1tM_l1Qn"
    },
    {
      "cell_type": "code",
      "execution_count": null,
      "metadata": {
        "id": "TRbw5Bo2l1Qp",
        "outputId": "a57d633a-0aec-4486-96b7-60fdbeaf26b6"
      },
      "outputs": [
        {
          "data": {
            "text/plain": [
              "Все               453762\n",
              "Политика           40716\n",
              "Общество           35202\n",
              "Украина            22523\n",
              "Происшествия       19825\n",
              "                   ...  \n",
              "Нацпроекты             6\n",
              "Мировой опыт           6\n",
              "Вооружение             3\n",
              "Инновации              1\n",
              "69-я параллель         1\n",
              "Name: tags, Length: 94, dtype: int64"
            ]
          },
          "execution_count": 8,
          "metadata": {},
          "output_type": "execute_result"
        }
      ],
      "source": [
        "df.tags.value_counts()"
      ],
      "id": "TRbw5Bo2l1Qp"
    },
    {
      "cell_type": "code",
      "execution_count": null,
      "metadata": {
        "id": "yGwPNY11l1Qq"
      },
      "outputs": [],
      "source": [],
      "id": "yGwPNY11l1Qq"
    },
    {
      "cell_type": "code",
      "execution_count": null,
      "metadata": {
        "id": "9HKcOswwl1RI"
      },
      "outputs": [],
      "source": [],
      "id": "9HKcOswwl1RI"
    },
    {
      "cell_type": "code",
      "execution_count": null,
      "metadata": {
        "id": "9FaYmCj1l1RJ"
      },
      "outputs": [],
      "source": [
        "df = df[df.topic.isin(['Россия','Мир','Экономика','Спорт','Культура'])].copy()"
      ],
      "id": "9FaYmCj1l1RJ"
    },
    {
      "cell_type": "code",
      "execution_count": null,
      "metadata": {
        "id": "dDRvA1BMl1RK"
      },
      "outputs": [],
      "source": [],
      "id": "dDRvA1BMl1RK"
    },
    {
      "cell_type": "code",
      "execution_count": null,
      "metadata": {
        "id": "h6P7atdZl1RL"
      },
      "outputs": [],
      "source": [],
      "id": "h6P7atdZl1RL"
    },
    {
      "cell_type": "code",
      "execution_count": null,
      "metadata": {
        "id": "loyB8TPyl1RM"
      },
      "outputs": [],
      "source": [],
      "id": "loyB8TPyl1RM"
    },
    {
      "cell_type": "code",
      "execution_count": null,
      "metadata": {
        "id": "It_CsD5ql1RM",
        "outputId": "0e0761b7-830f-43a9-c637-166cdfce05ac"
      },
      "outputs": [
        {
          "data": {
            "text/plain": [
              "(494804, 6)"
            ]
          },
          "execution_count": 12,
          "metadata": {},
          "output_type": "execute_result"
        }
      ],
      "source": [
        "df.shape"
      ],
      "id": "It_CsD5ql1RM"
    },
    {
      "cell_type": "code",
      "execution_count": null,
      "metadata": {
        "id": "6Fy16q1Jl1RN",
        "outputId": "13078f4d-e9e5-42d0-c01e-847973161e9c"
      },
      "outputs": [
        {
          "data": {
            "text/plain": [
              "url          0\n",
              "title        0\n",
              "text         5\n",
              "topic        0\n",
              "tags     15328\n",
              "date         0\n",
              "dtype: int64"
            ]
          },
          "execution_count": 13,
          "metadata": {},
          "output_type": "execute_result"
        }
      ],
      "source": [
        "df.isna().sum()"
      ],
      "id": "6Fy16q1Jl1RN"
    },
    {
      "cell_type": "code",
      "execution_count": null,
      "metadata": {
        "id": "Id2Cm9mtl1RN",
        "outputId": "7837b9aa-ac67-4a50-8a81-2d4cddef7930"
      },
      "outputs": [
        {
          "data": {
            "text/plain": [
              "'Прокуратура не\\xa0нашла национальной почвы в\\xa0нападении на\\xa0индийского студента'"
            ]
          },
          "execution_count": 14,
          "metadata": {},
          "output_type": "execute_result"
        }
      ],
      "source": [
        "df[df.text.isna()]['title'].values[0]"
      ],
      "id": "Id2Cm9mtl1RN"
    },
    {
      "cell_type": "code",
      "execution_count": null,
      "metadata": {
        "id": "V9G9PLFal1RO"
      },
      "outputs": [],
      "source": [
        "df.dropna(subset=['text'],inplace = True)"
      ],
      "id": "V9G9PLFal1RO"
    },
    {
      "cell_type": "code",
      "execution_count": null,
      "metadata": {
        "id": "VtNvuVJWl1RO",
        "outputId": "c77af040-7438-4401-8916-00520062784d"
      },
      "outputs": [
        {
          "data": {
            "text/plain": [
              "Россия       160442\n",
              "Мир          136620\n",
              "Экономика     79528\n",
              "Спорт         64413\n",
              "Культура      53796\n",
              "Name: topic, dtype: int64"
            ]
          },
          "execution_count": 16,
          "metadata": {},
          "output_type": "execute_result"
        }
      ],
      "source": [
        "df.topic.value_counts()"
      ],
      "id": "VtNvuVJWl1RO"
    },
    {
      "cell_type": "code",
      "execution_count": null,
      "metadata": {
        "id": "MmRulFQvl1RP",
        "outputId": "b96c75f8-7830-4ecc-bb8e-211783cd37af"
      },
      "outputs": [
        {
          "data": {
            "text/plain": [
              "Россия       0.324257\n",
              "Мир          0.276112\n",
              "Экономика    0.160728\n",
              "Спорт        0.130180\n",
              "Культура     0.108723\n",
              "Name: topic, dtype: float64"
            ]
          },
          "execution_count": 17,
          "metadata": {},
          "output_type": "execute_result"
        }
      ],
      "source": [
        "df.topic.value_counts(normalize=True)"
      ],
      "id": "MmRulFQvl1RP"
    },
    {
      "cell_type": "code",
      "execution_count": null,
      "metadata": {
        "id": "_6Qj86ukl1RQ"
      },
      "outputs": [],
      "source": [
        "df.isna().sum()"
      ],
      "id": "_6Qj86ukl1RQ"
    },
    {
      "cell_type": "code",
      "execution_count": null,
      "metadata": {
        "id": "xaXwTyp6l1RR"
      },
      "outputs": [],
      "source": [
        "df[df.text.isna()]['title'].values"
      ],
      "id": "xaXwTyp6l1RR"
    },
    {
      "cell_type": "code",
      "execution_count": null,
      "metadata": {
        "id": "Ms-eoKFMl1RS"
      },
      "outputs": [],
      "source": [
        "# df = df[~df.text.isna()]"
      ],
      "id": "Ms-eoKFMl1RS"
    },
    {
      "cell_type": "code",
      "execution_count": null,
      "metadata": {
        "id": "YCtto2Rpl1Rm"
      },
      "outputs": [],
      "source": [
        "df.shape"
      ],
      "id": "YCtto2Rpl1Rm"
    },
    {
      "cell_type": "code",
      "execution_count": null,
      "metadata": {
        "id": "KlSA1hcll1Rm"
      },
      "outputs": [],
      "source": [
        "RANDOM_STATE = 42"
      ],
      "id": "KlSA1hcll1Rm"
    },
    {
      "cell_type": "markdown",
      "metadata": {
        "id": "Qecw2E9il1Rm"
      },
      "source": [
        "### Базовая обработка"
      ],
      "id": "Qecw2E9il1Rm"
    },
    {
      "cell_type": "code",
      "execution_count": null,
      "metadata": {
        "id": "RX8Ruo4Fl1Rp"
      },
      "outputs": [],
      "source": [
        "text_transformer = TfidfVectorizer()"
      ],
      "id": "RX8Ruo4Fl1Rp"
    },
    {
      "cell_type": "code",
      "execution_count": null,
      "metadata": {
        "id": "bRuuNLPbl1SB"
      },
      "outputs": [],
      "source": [
        "%%time\n",
        "text = text_transformer.fit_transform(df['text'])"
      ],
      "id": "bRuuNLPbl1SB"
    },
    {
      "cell_type": "code",
      "execution_count": null,
      "metadata": {
        "id": "e83OkON6l1SD"
      },
      "outputs": [],
      "source": [
        "df['text']"
      ],
      "id": "e83OkON6l1SD"
    },
    {
      "cell_type": "code",
      "execution_count": null,
      "metadata": {
        "id": "mtcgHNnNl1SF"
      },
      "outputs": [],
      "source": [
        "text.shape"
      ],
      "id": "mtcgHNnNl1SF"
    },
    {
      "cell_type": "code",
      "execution_count": null,
      "metadata": {
        "id": "7OYq92pnl1SG"
      },
      "outputs": [],
      "source": [
        "X_train, X_test, y_train, y_test = train_test_split(text, df['topic'], test_size=0.20, random_state=RANDOM_STATE)"
      ],
      "id": "7OYq92pnl1SG"
    },
    {
      "cell_type": "code",
      "execution_count": null,
      "metadata": {
        "id": "20NHDlEZl1SH"
      },
      "outputs": [],
      "source": [
        "X_train.shape"
      ],
      "id": "20NHDlEZl1SH"
    },
    {
      "cell_type": "code",
      "execution_count": null,
      "metadata": {
        "id": "42wmCvZAl1SH"
      },
      "outputs": [],
      "source": [
        "X_test.shape"
      ],
      "id": "42wmCvZAl1SH"
    },
    {
      "cell_type": "code",
      "execution_count": null,
      "metadata": {
        "id": "tsRkzFjNl1SI"
      },
      "outputs": [],
      "source": [
        "%%time\n",
        "clf = tree.DecisionTreeClassifier()"
      ],
      "id": "tsRkzFjNl1SI"
    },
    {
      "cell_type": "code",
      "execution_count": null,
      "metadata": {
        "id": "c1q1MQcdl1Sg"
      },
      "outputs": [],
      "source": [
        "clf.fit(X_train,y_train)"
      ],
      "id": "c1q1MQcdl1Sg"
    },
    {
      "cell_type": "code",
      "execution_count": null,
      "metadata": {
        "id": "gTTqpy3Ql1Sg"
      },
      "outputs": [],
      "source": [
        "pred = clf.predict(X_test)\n",
        "print('Качество модели по метрике F1', f1_score(y_test,pred,average='weighted'))"
      ],
      "id": "gTTqpy3Ql1Sg"
    },
    {
      "cell_type": "markdown",
      "metadata": {
        "id": "ZW7e9RH9l1Sh"
      },
      "source": [
        "### Изменим токенизатор"
      ],
      "id": "ZW7e9RH9l1Sh"
    },
    {
      "cell_type": "raw",
      "metadata": {
        "id": "qMAWjypil1Si"
      },
      "source": [
        "import nltk\n",
        "import ssl\n",
        "\n",
        "try:\n",
        "    _create_unverified_https_context = ssl._create_unverified_context\n",
        "except AttributeError:\n",
        "    pass\n",
        "else:\n",
        "    ssl._create_default_https_context = _create_unverified_https_context\n",
        "\n",
        "nltk.download()"
      ],
      "id": "qMAWjypil1Si"
    },
    {
      "cell_type": "raw",
      "metadata": {
        "id": "L-BkrW3rl1Sj"
      },
      "source": [
        "nltk.download('stopwords')"
      ],
      "id": "L-BkrW3rl1Sj"
    },
    {
      "cell_type": "code",
      "execution_count": null,
      "metadata": {
        "id": "OjLMtKLTl1Sj"
      },
      "outputs": [],
      "source": [
        "stop_russian = stopwords.words('russian')"
      ],
      "id": "OjLMtKLTl1Sj"
    },
    {
      "cell_type": "code",
      "execution_count": null,
      "metadata": {
        "id": "r2OX-Oyhl1Sk"
      },
      "outputs": [],
      "source": [
        "text_transformer = TfidfVectorizer(stop_words=stop_russian, \n",
        "                                   ngram_range=(1,1), \n",
        "                                   lowercase=True, \n",
        "                                   max_features=10000 )\n",
        "text = text_transformer.fit_transform(df['text'])\n",
        "X_train, X_test, y_train, y_test = train_test_split(text, df['topic'], test_size=0.2, random_state=RANDOM_STATE)"
      ],
      "id": "r2OX-Oyhl1Sk"
    },
    {
      "cell_type": "code",
      "execution_count": null,
      "metadata": {
        "id": "2f-cMZQ9l1Sk"
      },
      "outputs": [],
      "source": [
        "from sklearn.ensemble import GradientBoostingClassifier"
      ],
      "id": "2f-cMZQ9l1Sk"
    },
    {
      "cell_type": "code",
      "execution_count": null,
      "metadata": {
        "id": "ZV2yKf3Sl1Sx",
        "outputId": "57f3da05-a0bc-45c8-d29c-c059f01eae37"
      },
      "outputs": [
        {
          "data": {
            "text/plain": [
              "(395839, 10000)"
            ]
          },
          "execution_count": 23,
          "metadata": {},
          "output_type": "execute_result"
        }
      ],
      "source": [
        "X_train.shape"
      ],
      "id": "ZV2yKf3Sl1Sx"
    },
    {
      "cell_type": "code",
      "execution_count": null,
      "metadata": {
        "id": "48-nbe8el1Sx"
      },
      "outputs": [],
      "source": [
        "clf2 = GradientBoostingClassifier()\n",
        "clf2.fit(X_train,y_train)"
      ],
      "id": "48-nbe8el1Sx"
    },
    {
      "cell_type": "code",
      "execution_count": null,
      "metadata": {
        "id": "MZZwmmTnl1Sy"
      },
      "outputs": [],
      "source": [
        "print('TRAIN - Качество модели по метрике F1 (токенизатор настроен)',\n",
        "      f1_score(y_train,clf2.predict(X_train),average='weighted'))"
      ],
      "id": "MZZwmmTnl1Sy"
    },
    {
      "cell_type": "code",
      "execution_count": null,
      "metadata": {
        "id": "sOxr5VDql1Sy"
      },
      "outputs": [],
      "source": [
        "%%time\n",
        "pred2 = clf2.predict(X_test)\n",
        "print('TEST - Качество модели по метрике F1 (токенизатор настроен)', f1_score(y_test,pred2,average='weighted'))"
      ],
      "id": "sOxr5VDql1Sy"
    },
    {
      "cell_type": "code",
      "execution_count": null,
      "metadata": {
        "id": "povivSkBl1Sz"
      },
      "outputs": [],
      "source": [
        "# with open ('transformer.pkl', 'wb') as f:\n",
        "#     pickle.dump(text_transformer, f)"
      ],
      "id": "povivSkBl1Sz"
    },
    {
      "cell_type": "code",
      "execution_count": null,
      "metadata": {
        "id": "wb2DWi9ul1Sz"
      },
      "outputs": [],
      "source": [
        "# with open ('clf.pkl', 'wb') as f:\n",
        "#     pickle.dump(clf2, f)"
      ],
      "id": "wb2DWi9ul1Sz"
    },
    {
      "cell_type": "code",
      "execution_count": null,
      "metadata": {
        "id": "ItmR_fr8l1S0"
      },
      "outputs": [],
      "source": [],
      "id": "ItmR_fr8l1S0"
    },
    {
      "cell_type": "raw",
      "metadata": {
        "id": "RHcssDK7l1S1"
      },
      "source": [
        "df['text'] = df['text'].str.replace('/','')"
      ],
      "id": "RHcssDK7l1S1"
    },
    {
      "cell_type": "markdown",
      "metadata": {
        "id": "Vjj0dY7Ql1S1"
      },
      "source": [
        "### приведем слова к первой форме"
      ],
      "id": "Vjj0dY7Ql1S1"
    },
    {
      "cell_type": "code",
      "execution_count": null,
      "metadata": {
        "id": "hIzGsEWPl1S2"
      },
      "outputs": [],
      "source": [
        "pattern = r'[^А-Яа-я]+'"
      ],
      "id": "hIzGsEWPl1S2"
    },
    {
      "cell_type": "code",
      "execution_count": null,
      "metadata": {
        "id": "53jDZUCWl1S2"
      },
      "outputs": [],
      "source": [
        "list = [re.sub(pattern, ' ', i) for i in ['проверкаyyy weyweywt iweiwue ><<++ 238238 ? 123 тест']]"
      ],
      "id": "53jDZUCWl1S2"
    },
    {
      "cell_type": "code",
      "execution_count": null,
      "metadata": {
        "id": "1k7rgkmQl1S2",
        "outputId": "3cc63436-e027-479d-b6b4-c9fccb5c7d12"
      },
      "outputs": [
        {
          "data": {
            "text/plain": [
              "['проверка тест']"
            ]
          },
          "execution_count": 11,
          "metadata": {},
          "output_type": "execute_result"
        }
      ],
      "source": [
        "list"
      ],
      "id": "1k7rgkmQl1S2"
    },
    {
      "cell_type": "code",
      "execution_count": null,
      "metadata": {
        "id": "y6TQJuJ0l1S3"
      },
      "outputs": [],
      "source": [
        "# функция удаления пунктуации и цифр\n",
        "def remove_trash(list): \n",
        "    pattern = r'[^А-Яа-я]+'\n",
        "    try:\n",
        "      list = [re.sub(pattern, ' ', i) for i in list] \n",
        "#       print (list)\n",
        "    except Exception as e:\n",
        "      print(e)\n",
        "    return list"
      ],
      "id": "y6TQJuJ0l1S3"
    },
    {
      "cell_type": "code",
      "execution_count": null,
      "metadata": {
        "id": "nb6-Oshml1S3"
      },
      "outputs": [],
      "source": [
        "df['text_clean'] = remove_trash(df['text'])"
      ],
      "id": "nb6-Oshml1S3"
    },
    {
      "cell_type": "code",
      "execution_count": null,
      "metadata": {
        "id": "DUb7hF6fl1S3",
        "outputId": "def56375-33d4-424d-d4aa-57a1208e502d"
      },
      "outputs": [
        {
          "data": {
            "text/html": [
              "<div>\n",
              "<style scoped>\n",
              "    .dataframe tbody tr th:only-of-type {\n",
              "        vertical-align: middle;\n",
              "    }\n",
              "\n",
              "    .dataframe tbody tr th {\n",
              "        vertical-align: top;\n",
              "    }\n",
              "\n",
              "    .dataframe thead th {\n",
              "        text-align: right;\n",
              "    }\n",
              "</style>\n",
              "<table border=\"1\" class=\"dataframe\">\n",
              "  <thead>\n",
              "    <tr style=\"text-align: right;\">\n",
              "      <th></th>\n",
              "      <th>text</th>\n",
              "      <th>text_clean</th>\n",
              "    </tr>\n",
              "  </thead>\n",
              "  <tbody>\n",
              "    <tr>\n",
              "      <th>0</th>\n",
              "      <td>Глава Росстата Владимир Соколин заявил, что в ...</td>\n",
              "      <td>Глава Росстата Владимир Соколин заявил что в я...</td>\n",
              "    </tr>\n",
              "    <tr>\n",
              "      <th>1</th>\n",
              "      <td>У российских кинематографистов  появится новый...</td>\n",
              "      <td>У российских кинематографистов появится новый ...</td>\n",
              "    </tr>\n",
              "    <tr>\n",
              "      <th>2</th>\n",
              "      <td>Медицинский штаб миланского \"Интера\" обнародов...</td>\n",
              "      <td>Медицинский штаб миланского Интера обнародовал...</td>\n",
              "    </tr>\n",
              "    <tr>\n",
              "      <th>3</th>\n",
              "      <td>Премии \"Книга года\" в 13 номинациях вручены на...</td>\n",
              "      <td>Премии Книга года в номинациях вручены на Моск...</td>\n",
              "    </tr>\n",
              "    <tr>\n",
              "      <th>4</th>\n",
              "      <td>Сборная Португалии сыграла вничью с командой И...</td>\n",
              "      <td>Сборная Португалии сыграла вничью с командой И...</td>\n",
              "    </tr>\n",
              "  </tbody>\n",
              "</table>\n",
              "</div>"
            ],
            "text/plain": [
              "                                                text  \\\n",
              "0  Глава Росстата Владимир Соколин заявил, что в ...   \n",
              "1  У российских кинематографистов  появится новый...   \n",
              "2  Медицинский штаб миланского \"Интера\" обнародов...   \n",
              "3  Премии \"Книга года\" в 13 номинациях вручены на...   \n",
              "4  Сборная Португалии сыграла вничью с командой И...   \n",
              "\n",
              "                                          text_clean  \n",
              "0  Глава Росстата Владимир Соколин заявил что в я...  \n",
              "1  У российских кинематографистов появится новый ...  \n",
              "2  Медицинский штаб миланского Интера обнародовал...  \n",
              "3  Премии Книга года в номинациях вручены на Моск...  \n",
              "4  Сборная Португалии сыграла вничью с командой И...  "
            ]
          },
          "execution_count": 14,
          "metadata": {},
          "output_type": "execute_result"
        }
      ],
      "source": [
        "df[['text','text_clean']].head()"
      ],
      "id": "DUb7hF6fl1S3"
    },
    {
      "cell_type": "code",
      "execution_count": null,
      "metadata": {
        "id": "fIO1ufI3l1S4",
        "outputId": "f45e2c08-a94d-4ffe-c7b0-b23b7c530c6c"
      },
      "outputs": [
        {
          "data": {
            "text/plain": [
              "title          0\n",
              "text           0\n",
              "topic          0\n",
              "topic_label    0\n",
              "text_clean     0\n",
              "dtype: int64"
            ]
          },
          "execution_count": 15,
          "metadata": {},
          "output_type": "execute_result"
        }
      ],
      "source": [
        "df.isna().sum()"
      ],
      "id": "fIO1ufI3l1S4"
    },
    {
      "cell_type": "code",
      "execution_count": null,
      "metadata": {
        "id": "VY2il0v2l1S4"
      },
      "outputs": [],
      "source": [
        "# df = df[~df.text_clean.isna()].copy()"
      ],
      "id": "VY2il0v2l1S4"
    },
    {
      "cell_type": "code",
      "execution_count": null,
      "metadata": {
        "id": "THc939uHl1S4"
      },
      "outputs": [],
      "source": [
        "#токенизатор удалил мусор"
      ],
      "id": "THc939uHl1S4"
    },
    {
      "cell_type": "code",
      "execution_count": null,
      "metadata": {
        "id": "CFEpq4CHl1S5"
      },
      "outputs": [],
      "source": [
        "text_transformer = TfidfVectorizer(stop_words=stop_russian, \n",
        "                                   ngram_range=(1,1), \n",
        "                                   lowercase=True, \n",
        "                                   max_features=10000 )\n",
        "text = text_transformer.fit_transform(df['text_clean'])\n",
        "X_train, X_test, y_train, y_test = train_test_split(text, df['topic_label'], test_size=0.2, random_state=RANDOM_STATE)"
      ],
      "id": "CFEpq4CHl1S5"
    },
    {
      "cell_type": "code",
      "execution_count": null,
      "metadata": {
        "id": "_vzmEw0Ul1S5",
        "outputId": "5994cb45-d39e-4a6c-d216-0cf787108e30"
      },
      "outputs": [
        {
          "name": "stdout",
          "output_type": "stream",
          "text": [
            "Качество модели по метрике F1 (токенизатор настроен и убран мусор) 0.4297091744411124\n"
          ]
        }
      ],
      "source": [
        "clf3 = tree.DecisionTreeClassifier(max_depth=3)\n",
        "clf3.fit(X_train,y_train)\n",
        "pred3 = clf3.predict(X_test)\n",
        "print('Качество модели по метрике F1 (токенизатор настроен и убран мусор)', f1_score(y_test,pred3,average='weighted'))"
      ],
      "id": "_vzmEw0Ul1S5"
    },
    {
      "cell_type": "markdown",
      "metadata": {
        "id": "DfSlezdHl1S5"
      },
      "source": [
        "### попробуем лемматизацию"
      ],
      "id": "DfSlezdHl1S5"
    },
    {
      "cell_type": "code",
      "execution_count": null,
      "metadata": {
        "id": "mlICjdOHl1S6"
      },
      "outputs": [],
      "source": [
        "morph = pymorphy2.MorphAnalyzer()"
      ],
      "id": "mlICjdOHl1S6"
    },
    {
      "cell_type": "code",
      "execution_count": null,
      "metadata": {
        "id": "TmYuuV09l1S6"
      },
      "outputs": [],
      "source": [
        "# функция лемматизации\n",
        "def lemmatize(row):\n",
        "    t = []\n",
        "    text = row['text_clean']\n",
        "    for word in text.split():\n",
        "        if len(word)<=1:\n",
        "            continue\n",
        "        p = morph.parse(word)[0]\n",
        "        t.append(p.normal_form)\n",
        "    return \" \".join(t)"
      ],
      "id": "TmYuuV09l1S6"
    },
    {
      "cell_type": "code",
      "execution_count": null,
      "metadata": {
        "id": "lB1kFTkTl1S6",
        "outputId": "3f2ea40a-e161-479d-cf38-ec9a4ee7ffc0"
      },
      "outputs": [
        {
          "data": {
            "text/plain": [
              "0         Глава Росстата Владимир Соколин заявил, что в ...\n",
              "1         У российских кинематографистов  появится новый...\n",
              "2         Медицинский штаб миланского \"Интера\" обнародов...\n",
              "3         Премии \"Книга года\" в 13 номинациях вручены на...\n",
              "4         Сборная Португалии сыграла вничью с командой И...\n",
              "                                ...                        \n",
              "206632    Бывшей вице-президенту ювелирной компании Tiff...\n",
              "206633    Минфин предлагает увеличить размер штрафа для ...\n",
              "206634    Индекс потребительской уверенности россиян в п...\n",
              "206635    Капитан женской сборной России по теннису Шами...\n",
              "206636    Союз европейских футбольных ассоциаций (УЕФА) ...\n",
              "Name: text, Length: 206636, dtype: object"
            ]
          },
          "execution_count": 25,
          "metadata": {},
          "output_type": "execute_result"
        }
      ],
      "source": [
        "df.text"
      ],
      "id": "lB1kFTkTl1S6"
    },
    {
      "cell_type": "code",
      "execution_count": null,
      "metadata": {
        "id": "BqV91nOxl1S7"
      },
      "outputs": [],
      "source": [
        "t = []\n",
        "text = 'Минфин предлагает увеличить размер штрафа'\n",
        "for word in text.split():\n",
        "    if len(word)<=3:\n",
        "        continue\n",
        "    p = morph.parse(word)[0]\n",
        "    t.append(p.normal_form)"
      ],
      "id": "BqV91nOxl1S7"
    },
    {
      "cell_type": "code",
      "execution_count": null,
      "metadata": {
        "id": "9gNRes1wl1S7",
        "outputId": "a95657b1-4718-4121-b6b8-3f3c6b030de8"
      },
      "outputs": [
        {
          "data": {
            "text/plain": [
              "'минфин предлагать увеличить размер штраф'"
            ]
          },
          "execution_count": 29,
          "metadata": {},
          "output_type": "execute_result"
        }
      ],
      "source": [
        "\" \".join(t)"
      ],
      "id": "9gNRes1wl1S7"
    },
    {
      "cell_type": "code",
      "execution_count": null,
      "metadata": {
        "id": "lPrTtOtal1S8"
      },
      "outputs": [],
      "source": [
        "%%time\n",
        "df['text_clean_normal'] = df.apply(lemmatize,axis=1)"
      ],
      "id": "lPrTtOtal1S8"
    },
    {
      "cell_type": "raw",
      "metadata": {
        "id": "Mz_fCIbcl1S8"
      },
      "source": [
        "# Запись в файл объекта\n",
        "with open('my_newfile.pkl','wb') as f:\n",
        "    pickle.dump(df['text'],f)"
      ],
      "id": "Mz_fCIbcl1S8"
    },
    {
      "cell_type": "raw",
      "metadata": {
        "id": "7QFORQV-l1S9"
      },
      "source": [
        "#Чтение объекта в память\n",
        "with open ('my_newfile.pkl','rb') as f:\n",
        "    data_df = pickle.load(f)"
      ],
      "id": "7QFORQV-l1S9"
    },
    {
      "cell_type": "raw",
      "metadata": {
        "id": "tC3pMLM5l1S9"
      },
      "source": [
        "# пример записи объекта в файл\n",
        "with open('df_norma.pkl','wb') as f:\n",
        "    pickle.dump(df,f)"
      ],
      "id": "tC3pMLM5l1S9"
    },
    {
      "cell_type": "code",
      "execution_count": null,
      "metadata": {
        "id": "wNPdS9pAl1S-"
      },
      "outputs": [],
      "source": [],
      "id": "wNPdS9pAl1S-"
    },
    {
      "cell_type": "code",
      "execution_count": null,
      "metadata": {
        "id": "j8xyKtbsl1S-"
      },
      "outputs": [],
      "source": [
        "# пример чтения объекта из файла в оперативную память\n",
        "with open('df_norma.pkl','rb') as f:\n",
        "    df = pickle.load(f)"
      ],
      "id": "j8xyKtbsl1S-"
    },
    {
      "cell_type": "code",
      "execution_count": null,
      "metadata": {
        "id": "AJf5tlZ0l1S_"
      },
      "outputs": [],
      "source": [
        "df.head()"
      ],
      "id": "AJf5tlZ0l1S_"
    },
    {
      "cell_type": "code",
      "execution_count": null,
      "metadata": {
        "id": "5yeSVhoNl1TA"
      },
      "outputs": [],
      "source": [
        "df[['text','text_clean_normal']].tail(10)"
      ],
      "id": "5yeSVhoNl1TA"
    },
    {
      "cell_type": "code",
      "execution_count": null,
      "metadata": {
        "id": "i26y31u3l1TA"
      },
      "outputs": [],
      "source": [],
      "id": "i26y31u3l1TA"
    },
    {
      "cell_type": "markdown",
      "metadata": {
        "id": "Cdft3TIwl1TA"
      },
      "source": [
        "### качество модели после лемматизации"
      ],
      "id": "Cdft3TIwl1TA"
    },
    {
      "cell_type": "code",
      "execution_count": null,
      "metadata": {
        "id": "Z0VSKiNAl1TB"
      },
      "outputs": [],
      "source": [
        "text_transformer = TfidfVectorizer(stop_words=stop_russian, \n",
        "                                   ngram_range=(1,1), \n",
        "                                   lowercase=True, \n",
        "                                   max_features=10000)\n",
        "text_norm = text_transformer.fit_transform(df['text_clean_normal'])\n",
        "X_train, X_test, y_train, y_test = train_test_split(text_norm, df['topic_label'], test_size=0.20, random_state=RANDOM_STATE)"
      ],
      "id": "Z0VSKiNAl1TB"
    },
    {
      "cell_type": "code",
      "execution_count": null,
      "metadata": {
        "id": "Mra5ivFTl1TB"
      },
      "outputs": [],
      "source": [
        "# text_transformer.transform(['Минфин предлагает увеличить размер'])"
      ],
      "id": "Mra5ivFTl1TB"
    },
    {
      "cell_type": "code",
      "execution_count": null,
      "metadata": {
        "id": "A37PV0fkl1TB"
      },
      "outputs": [],
      "source": [
        "clf_norm = tree.DecisionTreeClassifier()\n",
        "clf_norm.fit(X_train,y_train)\n",
        "pred_norm = clf_norm.predict(X_test)"
      ],
      "id": "A37PV0fkl1TB"
    },
    {
      "cell_type": "code",
      "execution_count": null,
      "metadata": {
        "id": "9zxYVtLol1TC"
      },
      "outputs": [],
      "source": [
        "# clf_norm.predict(text_transformer.transform(['Минфин предлагает увеличить размер']))"
      ],
      "id": "9zxYVtLol1TC"
    },
    {
      "cell_type": "code",
      "execution_count": null,
      "metadata": {
        "id": "1BiQiaEWl1TC"
      },
      "outputs": [],
      "source": [
        "\n",
        "print('Качество модели по метрике F1 после лемматизации', f1_score(y_test,pred_norm,average='weighted'))"
      ],
      "id": "1BiQiaEWl1TC"
    },
    {
      "cell_type": "code",
      "execution_count": null,
      "metadata": {
        "id": "azrFDrUUl1TC"
      },
      "outputs": [],
      "source": [
        "\n",
        "\n",
        "with open('data/tfidf.pkl', 'wb') as f:\n",
        "    pickle.dump(clf_norm, f)\n",
        "\n",
        "with open('data/transformer.pkl', 'wb') as f:\n",
        "    pickle.dump(text_transformer, f)"
      ],
      "id": "azrFDrUUl1TC"
    },
    {
      "cell_type": "code",
      "execution_count": null,
      "metadata": {
        "id": "QsBcUi3wl1TD"
      },
      "outputs": [],
      "source": [],
      "id": "QsBcUi3wl1TD"
    },
    {
      "cell_type": "markdown",
      "metadata": {
        "id": "SxS3EXS3l1TD"
      },
      "source": [
        "## Сравниваем вектора текстов"
      ],
      "id": "SxS3EXS3l1TD"
    },
    {
      "cell_type": "code",
      "execution_count": null,
      "metadata": {
        "id": "X5cQUdA9l1TE"
      },
      "outputs": [],
      "source": [
        "from sklearn.metrics.pairwise import cosine_similarity\n",
        "import numpy as np\n",
        "\n",
        "\n",
        "textA = text_transformer.transform(['бывший тренер сборная россия владимир плющев']   )                              \n",
        "\n",
        "test = cosine_similarity(text_norm, textA)"
      ],
      "id": "X5cQUdA9l1TE"
    },
    {
      "cell_type": "code",
      "execution_count": null,
      "metadata": {
        "id": "7IG1b7Nnl1TE"
      },
      "outputs": [],
      "source": [
        "testdf = pd.DataFrame(test)\n",
        "testdf.columns=['vector']"
      ],
      "id": "7IG1b7Nnl1TE"
    },
    {
      "cell_type": "code",
      "execution_count": null,
      "metadata": {
        "id": "QF_4XJZcl1TE"
      },
      "outputs": [],
      "source": [
        "testdf.sort_values(by='vector',ascending=False).head(5)"
      ],
      "id": "QF_4XJZcl1TE"
    },
    {
      "cell_type": "code",
      "execution_count": null,
      "metadata": {
        "id": "kTnIdXhWl1TF"
      },
      "outputs": [],
      "source": [
        "df[df.index==103437]['text_clean_normal'].values"
      ],
      "id": "kTnIdXhWl1TF"
    }
  ],
  "metadata": {
    "kernelspec": {
      "display_name": "lec_venv",
      "language": "python",
      "name": "lec_venv"
    },
    "language_info": {
      "codemirror_mode": {
        "name": "ipython",
        "version": 3
      },
      "file_extension": ".py",
      "mimetype": "text/x-python",
      "name": "python",
      "nbconvert_exporter": "python",
      "pygments_lexer": "ipython3",
      "version": "3.6.5"
    },
    "colab": {
      "provenance": [],
      "include_colab_link": true
    }
  },
  "nbformat": 4,
  "nbformat_minor": 5
}