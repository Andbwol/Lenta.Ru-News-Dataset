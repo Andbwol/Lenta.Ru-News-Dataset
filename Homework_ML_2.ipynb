{
  "cells": [
    {
      "cell_type": "markdown",
      "metadata": {
        "id": "view-in-github",
        "colab_type": "text"
      },
      "source": [
        "<a href=\"https://colab.research.google.com/github/Andbwol/Lenta.Ru-News-Dataset/blob/master/Homework_ML_2.ipynb\" target=\"_parent\"><img src=\"https://colab.research.google.com/assets/colab-badge.svg\" alt=\"Open In Colab\"/></a>"
      ]
    },
    {
      "cell_type": "code",
      "execution_count": null,
      "metadata": {
        "id": "mXXQUggzBbo3"
      },
      "outputs": [],
      "source": [
        "import pandas as pd\n",
        "import re\n",
        "import joblib as pickle"
      ],
      "id": "mXXQUggzBbo3"
    },
    {
      "cell_type": "code",
      "execution_count": null,
      "metadata": {
        "id": "iE0yGRStBbpD"
      },
      "outputs": [],
      "source": [
        "from sklearn.model_selection import train_test_split\n",
        "from sklearn.preprocessing import LabelEncoder\n",
        "from sklearn.metrics import f1_score\n",
        "from nltk.corpus import stopwords\n",
        "from sklearn.feature_extraction.text import TfidfVectorizer\n",
        "import nltk\n",
        "from sklearn import tree"
      ],
      "id": "iE0yGRStBbpD"
    },
    {
      "cell_type": "markdown",
      "source": [
        "Были большие проблемы с загрузкой датасета lenta-ru-news.\n",
        "Архив в итоге брал вот отсюда:\n",
        "https://github.com/yutkin/Lenta.Ru-News-Dataset/releases\n",
        "\n",
        "\n",
        " Почему-то не хотел разархивироваться архив через bz2. Выдавал ошибку. Пришлось распаковать файл локально и загружать во временное хранилище. При этом при переводе csv в df pandas постоянно вылетают ошибки чтения utf-8 и EOF в разных рядах. Удалось скормить вот в таком виде (см ниже). Это также позволило уменьшить объем базы и сократить время обучения.\n",
        "В целом удивило, что с лемматизацией F1 ухудшился. Возможно как-раз из-за сжатого размера базы."
      ],
      "metadata": {
        "id": "WQsiLni4QAHv"
      },
      "id": "WQsiLni4QAHv"
    },
    {
      "cell_type": "code",
      "execution_count": null,
      "metadata": {
        "colab": {
          "base_uri": "https://localhost:8080/"
        },
        "id": "D2q6J0bTBbpF",
        "outputId": "e02ef846-d22d-4119-cba4-47b4b9184bd6"
      },
      "outputs": [
        {
          "output_type": "stream",
          "name": "stderr",
          "text": [
            "<ipython-input-34-30c21cd67f25>:1: FutureWarning: The error_bad_lines argument has been deprecated and will be removed in a future version. Use on_bad_lines in the future.\n",
            "\n",
            "\n",
            "  df=pd.read_csv('lenta-ru-news.csv', error_bad_lines=False, encoding='utf-8', skiprows = [i for i in range(40000,800000)])\n"
          ]
        }
      ],
      "source": [
        "df=pd.read_csv('lenta-ru-news.csv', error_bad_lines=False, encoding='utf-8', skiprows = [i for i in range(40000,800000)])"
      ],
      "id": "D2q6J0bTBbpF"
    },
    {
      "cell_type": "code",
      "execution_count": null,
      "metadata": {
        "id": "gDGpUdZuBbpJ",
        "outputId": "0247842e-42f5-4437-de11-0081f034daf5",
        "colab": {
          "base_uri": "https://localhost:8080/"
        }
      },
      "outputs": [
        {
          "output_type": "execute_result",
          "data": {
            "text/plain": [
              "(39999, 6)"
            ]
          },
          "metadata": {},
          "execution_count": 35
        }
      ],
      "source": [
        "df.shape"
      ],
      "id": "gDGpUdZuBbpJ"
    },
    {
      "cell_type": "code",
      "execution_count": null,
      "metadata": {
        "id": "giXILfhPBbpK",
        "outputId": "ff1620ab-4c98-466b-cb0a-6ce4703be06c",
        "colab": {
          "base_uri": "https://localhost:8080/"
        }
      },
      "outputs": [
        {
          "output_type": "execute_result",
          "data": {
            "text/plain": [
              "Россия       16585\n",
              "Мир           9066\n",
              "Экономика     4727\n",
              "Культура      2789\n",
              "Спорт         2056\n",
              "Name: topic, dtype: int64"
            ]
          },
          "metadata": {},
          "execution_count": 43
        }
      ],
      "source": [
        "df.topic.value_counts()"
      ],
      "id": "giXILfhPBbpK"
    },
    {
      "cell_type": "code",
      "execution_count": null,
      "metadata": {
        "id": "w56zFMwMBbpM",
        "colab": {
          "base_uri": "https://localhost:8080/",
          "height": 424
        },
        "outputId": "a25af6ca-186c-4860-e9bf-50e97653828c"
      },
      "outputs": [
        {
          "output_type": "execute_result",
          "data": {
            "text/plain": [
              "                                             url  \\\n",
              "5  https://lenta.ru/news/1999/08/31/stancia_mir/   \n",
              "6        https://lenta.ru/news/1999/08/31/vzriv/   \n",
              "7  https://lenta.ru/news/1999/08/31/credit_japs/   \n",
              "8        https://lenta.ru/news/1999/08/31/diana/   \n",
              "9          https://lenta.ru/news/1999/08/31/mvf/   \n",
              "\n",
              "                                               title  \\\n",
              "5         Космонавты сомневаются в надежности \"Мира\"   \n",
              "6       Взрыв в центре Москвы: пострадало 30 человек   \n",
              "7  Япония кредитует Россию на полтора миллиарда д...   \n",
              "8           Британцы отмечают двухлетие смерти Дианы   \n",
              "9  Отмытые через Bank of NY деньги не имели отнош...   \n",
              "\n",
              "                                                text   topic tags        date  \n",
              "5  Как стало известно агентству Ассошиэйтед Пресс...  Россия  Все  1999/08/31  \n",
              "6  В зале игровых автоматов в третьем ярусе подзе...  Россия  Все  1999/08/31  \n",
              "7  Япония приняла решение разморозить кредиты Рос...  Россия  Все  1999/08/31  \n",
              "8  Британцы отмечают сегодня скорбную дату - втор...     Мир  Все  1999/08/31  \n",
              "9  В понедельник директор департамента внешних св...  Россия  Все  1999/08/31  "
            ],
            "text/html": [
              "\n",
              "  <div id=\"df-4b9f71f3-3281-4715-bdec-8d19ebcc5930\">\n",
              "    <div class=\"colab-df-container\">\n",
              "      <div>\n",
              "<style scoped>\n",
              "    .dataframe tbody tr th:only-of-type {\n",
              "        vertical-align: middle;\n",
              "    }\n",
              "\n",
              "    .dataframe tbody tr th {\n",
              "        vertical-align: top;\n",
              "    }\n",
              "\n",
              "    .dataframe thead th {\n",
              "        text-align: right;\n",
              "    }\n",
              "</style>\n",
              "<table border=\"1\" class=\"dataframe\">\n",
              "  <thead>\n",
              "    <tr style=\"text-align: right;\">\n",
              "      <th></th>\n",
              "      <th>url</th>\n",
              "      <th>title</th>\n",
              "      <th>text</th>\n",
              "      <th>topic</th>\n",
              "      <th>tags</th>\n",
              "      <th>date</th>\n",
              "    </tr>\n",
              "  </thead>\n",
              "  <tbody>\n",
              "    <tr>\n",
              "      <th>5</th>\n",
              "      <td>https://lenta.ru/news/1999/08/31/stancia_mir/</td>\n",
              "      <td>Космонавты сомневаются в надежности \"Мира\"</td>\n",
              "      <td>Как стало известно агентству Ассошиэйтед Пресс...</td>\n",
              "      <td>Россия</td>\n",
              "      <td>Все</td>\n",
              "      <td>1999/08/31</td>\n",
              "    </tr>\n",
              "    <tr>\n",
              "      <th>6</th>\n",
              "      <td>https://lenta.ru/news/1999/08/31/vzriv/</td>\n",
              "      <td>Взрыв в центре Москвы: пострадало 30 человек</td>\n",
              "      <td>В зале игровых автоматов в третьем ярусе подзе...</td>\n",
              "      <td>Россия</td>\n",
              "      <td>Все</td>\n",
              "      <td>1999/08/31</td>\n",
              "    </tr>\n",
              "    <tr>\n",
              "      <th>7</th>\n",
              "      <td>https://lenta.ru/news/1999/08/31/credit_japs/</td>\n",
              "      <td>Япония кредитует Россию на полтора миллиарда д...</td>\n",
              "      <td>Япония приняла решение разморозить кредиты Рос...</td>\n",
              "      <td>Россия</td>\n",
              "      <td>Все</td>\n",
              "      <td>1999/08/31</td>\n",
              "    </tr>\n",
              "    <tr>\n",
              "      <th>8</th>\n",
              "      <td>https://lenta.ru/news/1999/08/31/diana/</td>\n",
              "      <td>Британцы отмечают двухлетие смерти Дианы</td>\n",
              "      <td>Британцы отмечают сегодня скорбную дату - втор...</td>\n",
              "      <td>Мир</td>\n",
              "      <td>Все</td>\n",
              "      <td>1999/08/31</td>\n",
              "    </tr>\n",
              "    <tr>\n",
              "      <th>9</th>\n",
              "      <td>https://lenta.ru/news/1999/08/31/mvf/</td>\n",
              "      <td>Отмытые через Bank of NY деньги не имели отнош...</td>\n",
              "      <td>В понедельник директор департамента внешних св...</td>\n",
              "      <td>Россия</td>\n",
              "      <td>Все</td>\n",
              "      <td>1999/08/31</td>\n",
              "    </tr>\n",
              "  </tbody>\n",
              "</table>\n",
              "</div>\n",
              "      <button class=\"colab-df-convert\" onclick=\"convertToInteractive('df-4b9f71f3-3281-4715-bdec-8d19ebcc5930')\"\n",
              "              title=\"Convert this dataframe to an interactive table.\"\n",
              "              style=\"display:none;\">\n",
              "        \n",
              "  <svg xmlns=\"http://www.w3.org/2000/svg\" height=\"24px\"viewBox=\"0 0 24 24\"\n",
              "       width=\"24px\">\n",
              "    <path d=\"M0 0h24v24H0V0z\" fill=\"none\"/>\n",
              "    <path d=\"M18.56 5.44l.94 2.06.94-2.06 2.06-.94-2.06-.94-.94-2.06-.94 2.06-2.06.94zm-11 1L8.5 8.5l.94-2.06 2.06-.94-2.06-.94L8.5 2.5l-.94 2.06-2.06.94zm10 10l.94 2.06.94-2.06 2.06-.94-2.06-.94-.94-2.06-.94 2.06-2.06.94z\"/><path d=\"M17.41 7.96l-1.37-1.37c-.4-.4-.92-.59-1.43-.59-.52 0-1.04.2-1.43.59L10.3 9.45l-7.72 7.72c-.78.78-.78 2.05 0 2.83L4 21.41c.39.39.9.59 1.41.59.51 0 1.02-.2 1.41-.59l7.78-7.78 2.81-2.81c.8-.78.8-2.07 0-2.86zM5.41 20L4 18.59l7.72-7.72 1.47 1.35L5.41 20z\"/>\n",
              "  </svg>\n",
              "      </button>\n",
              "      \n",
              "  <style>\n",
              "    .colab-df-container {\n",
              "      display:flex;\n",
              "      flex-wrap:wrap;\n",
              "      gap: 12px;\n",
              "    }\n",
              "\n",
              "    .colab-df-convert {\n",
              "      background-color: #E8F0FE;\n",
              "      border: none;\n",
              "      border-radius: 50%;\n",
              "      cursor: pointer;\n",
              "      display: none;\n",
              "      fill: #1967D2;\n",
              "      height: 32px;\n",
              "      padding: 0 0 0 0;\n",
              "      width: 32px;\n",
              "    }\n",
              "\n",
              "    .colab-df-convert:hover {\n",
              "      background-color: #E2EBFA;\n",
              "      box-shadow: 0px 1px 2px rgba(60, 64, 67, 0.3), 0px 1px 3px 1px rgba(60, 64, 67, 0.15);\n",
              "      fill: #174EA6;\n",
              "    }\n",
              "\n",
              "    [theme=dark] .colab-df-convert {\n",
              "      background-color: #3B4455;\n",
              "      fill: #D2E3FC;\n",
              "    }\n",
              "\n",
              "    [theme=dark] .colab-df-convert:hover {\n",
              "      background-color: #434B5C;\n",
              "      box-shadow: 0px 1px 3px 1px rgba(0, 0, 0, 0.15);\n",
              "      filter: drop-shadow(0px 1px 2px rgba(0, 0, 0, 0.3));\n",
              "      fill: #FFFFFF;\n",
              "    }\n",
              "  </style>\n",
              "\n",
              "      <script>\n",
              "        const buttonEl =\n",
              "          document.querySelector('#df-4b9f71f3-3281-4715-bdec-8d19ebcc5930 button.colab-df-convert');\n",
              "        buttonEl.style.display =\n",
              "          google.colab.kernel.accessAllowed ? 'block' : 'none';\n",
              "\n",
              "        async function convertToInteractive(key) {\n",
              "          const element = document.querySelector('#df-4b9f71f3-3281-4715-bdec-8d19ebcc5930');\n",
              "          const dataTable =\n",
              "            await google.colab.kernel.invokeFunction('convertToInteractive',\n",
              "                                                     [key], {});\n",
              "          if (!dataTable) return;\n",
              "\n",
              "          const docLinkHtml = 'Like what you see? Visit the ' +\n",
              "            '<a target=\"_blank\" href=https://colab.research.google.com/notebooks/data_table.ipynb>data table notebook</a>'\n",
              "            + ' to learn more about interactive tables.';\n",
              "          element.innerHTML = '';\n",
              "          dataTable['output_type'] = 'display_data';\n",
              "          await google.colab.output.renderOutput(dataTable, element);\n",
              "          const docLink = document.createElement('div');\n",
              "          docLink.innerHTML = docLinkHtml;\n",
              "          element.appendChild(docLink);\n",
              "        }\n",
              "      </script>\n",
              "    </div>\n",
              "  </div>\n",
              "  "
            ]
          },
          "metadata": {},
          "execution_count": 41
        }
      ],
      "source": [
        "df.head()"
      ],
      "id": "w56zFMwMBbpM"
    },
    {
      "cell_type": "code",
      "execution_count": null,
      "metadata": {
        "id": "gkII-otaBbpM"
      },
      "outputs": [],
      "source": [],
      "id": "gkII-otaBbpM"
    },
    {
      "cell_type": "code",
      "execution_count": null,
      "metadata": {
        "id": "BETcawXDBbpN"
      },
      "outputs": [],
      "source": [
        "df = df[df.topic.isin(['Россия','Мир','Экономика','Спорт','Культура'])].copy()"
      ],
      "id": "BETcawXDBbpN"
    },
    {
      "cell_type": "code",
      "execution_count": null,
      "metadata": {
        "id": "Pf_UlzX-BbpQ"
      },
      "outputs": [],
      "source": [],
      "id": "Pf_UlzX-BbpQ"
    },
    {
      "cell_type": "code",
      "execution_count": null,
      "metadata": {
        "id": "ZIlyCcr-BbpR"
      },
      "outputs": [],
      "source": [],
      "id": "ZIlyCcr-BbpR"
    },
    {
      "cell_type": "code",
      "execution_count": null,
      "metadata": {
        "id": "rwrJS6p3BbpS"
      },
      "outputs": [],
      "source": [],
      "id": "rwrJS6p3BbpS"
    },
    {
      "cell_type": "code",
      "execution_count": null,
      "metadata": {
        "id": "H6_-WveBBbpT",
        "outputId": "f695128d-79ce-4eea-8131-09d8ad1963fa",
        "colab": {
          "base_uri": "https://localhost:8080/"
        }
      },
      "outputs": [
        {
          "output_type": "execute_result",
          "data": {
            "text/plain": [
              "(35223, 6)"
            ]
          },
          "metadata": {},
          "execution_count": 38
        }
      ],
      "source": [
        "df.shape"
      ],
      "id": "H6_-WveBBbpT"
    },
    {
      "cell_type": "code",
      "execution_count": null,
      "metadata": {
        "id": "pN2Lj3m2BbpU",
        "outputId": "75eb5abe-c9bc-4ded-fe8e-488b724bb2c5",
        "colab": {
          "base_uri": "https://localhost:8080/"
        }
      },
      "outputs": [
        {
          "output_type": "execute_result",
          "data": {
            "text/plain": [
              "url      0\n",
              "title    0\n",
              "text     0\n",
              "topic    0\n",
              "tags     0\n",
              "date     0\n",
              "dtype: int64"
            ]
          },
          "metadata": {},
          "execution_count": 44
        }
      ],
      "source": [
        "df.isna().sum()"
      ],
      "id": "pN2Lj3m2BbpU"
    },
    {
      "cell_type": "code",
      "execution_count": 45,
      "metadata": {
        "id": "PVBV-fi7BbpW",
        "outputId": "8e1143ef-9234-4d9f-a604-963d9a8f7c31",
        "colab": {
          "base_uri": "https://localhost:8080/",
          "height": 166
        }
      },
      "outputs": [
        {
          "output_type": "error",
          "ename": "IndexError",
          "evalue": "ignored",
          "traceback": [
            "\u001b[0;31m---------------------------------------------------------------------------\u001b[0m",
            "\u001b[0;31mIndexError\u001b[0m                                Traceback (most recent call last)",
            "\u001b[0;32m<ipython-input-45-a127f4a18641>\u001b[0m in \u001b[0;36m<cell line: 1>\u001b[0;34m()\u001b[0m\n\u001b[0;32m----> 1\u001b[0;31m \u001b[0mdf\u001b[0m\u001b[0;34m[\u001b[0m\u001b[0mdf\u001b[0m\u001b[0;34m.\u001b[0m\u001b[0mtext\u001b[0m\u001b[0;34m.\u001b[0m\u001b[0misna\u001b[0m\u001b[0;34m(\u001b[0m\u001b[0;34m)\u001b[0m\u001b[0;34m]\u001b[0m\u001b[0;34m[\u001b[0m\u001b[0;34m'title'\u001b[0m\u001b[0;34m]\u001b[0m\u001b[0;34m.\u001b[0m\u001b[0mvalues\u001b[0m\u001b[0;34m[\u001b[0m\u001b[0;36m0\u001b[0m\u001b[0;34m]\u001b[0m\u001b[0;34m\u001b[0m\u001b[0;34m\u001b[0m\u001b[0m\n\u001b[0m",
            "\u001b[0;31mIndexError\u001b[0m: index 0 is out of bounds for axis 0 with size 0"
          ]
        }
      ],
      "source": [
        "df[df.text.isna()]['title'].values[0]"
      ],
      "id": "PVBV-fi7BbpW"
    },
    {
      "cell_type": "code",
      "execution_count": 46,
      "metadata": {
        "id": "jJbTZSwfBbpX"
      },
      "outputs": [],
      "source": [
        "df.dropna(subset=['text'],inplace = True)"
      ],
      "id": "jJbTZSwfBbpX"
    },
    {
      "cell_type": "code",
      "execution_count": 47,
      "metadata": {
        "id": "zu-OsZsaBbpY",
        "outputId": "4f75328b-85fb-4eed-a5d9-e90366257d34",
        "colab": {
          "base_uri": "https://localhost:8080/"
        }
      },
      "outputs": [
        {
          "output_type": "execute_result",
          "data": {
            "text/plain": [
              "Россия       16585\n",
              "Мир           9066\n",
              "Экономика     4727\n",
              "Культура      2789\n",
              "Спорт         2056\n",
              "Name: topic, dtype: int64"
            ]
          },
          "metadata": {},
          "execution_count": 47
        }
      ],
      "source": [
        "df.topic.value_counts()"
      ],
      "id": "zu-OsZsaBbpY"
    },
    {
      "cell_type": "code",
      "execution_count": 48,
      "metadata": {
        "id": "Wdqn7ZfeBbpZ",
        "outputId": "1a11b6a6-9a59-4ba1-cf97-0bd3f7411a23",
        "colab": {
          "base_uri": "https://localhost:8080/"
        }
      },
      "outputs": [
        {
          "output_type": "execute_result",
          "data": {
            "text/plain": [
              "Россия       0.470857\n",
              "Мир          0.257389\n",
              "Экономика    0.134202\n",
              "Культура     0.079181\n",
              "Спорт        0.058371\n",
              "Name: topic, dtype: float64"
            ]
          },
          "metadata": {},
          "execution_count": 48
        }
      ],
      "source": [
        "df.topic.value_counts(normalize=True)"
      ],
      "id": "Wdqn7ZfeBbpZ"
    },
    {
      "cell_type": "code",
      "execution_count": 49,
      "metadata": {
        "id": "4DqblDKlBbpa",
        "colab": {
          "base_uri": "https://localhost:8080/"
        },
        "outputId": "04fde01f-24fd-4329-9d17-969256c97ef1"
      },
      "outputs": [
        {
          "output_type": "execute_result",
          "data": {
            "text/plain": [
              "url      0\n",
              "title    0\n",
              "text     0\n",
              "topic    0\n",
              "tags     0\n",
              "date     0\n",
              "dtype: int64"
            ]
          },
          "metadata": {},
          "execution_count": 49
        }
      ],
      "source": [
        "df.isna().sum()"
      ],
      "id": "4DqblDKlBbpa"
    },
    {
      "cell_type": "code",
      "execution_count": 50,
      "metadata": {
        "id": "97vU-pk_Bbpb",
        "colab": {
          "base_uri": "https://localhost:8080/"
        },
        "outputId": "aec2d6bf-3d06-4f86-c97f-e244de975d54"
      },
      "outputs": [
        {
          "output_type": "execute_result",
          "data": {
            "text/plain": [
              "array([], dtype=object)"
            ]
          },
          "metadata": {},
          "execution_count": 50
        }
      ],
      "source": [
        "df[df.text.isna()]['title'].values"
      ],
      "id": "97vU-pk_Bbpb"
    },
    {
      "cell_type": "code",
      "execution_count": null,
      "metadata": {
        "id": "zw9DGw-mBbpb"
      },
      "outputs": [],
      "source": [
        "# df = df[~df.text.isna()]"
      ],
      "id": "zw9DGw-mBbpb"
    },
    {
      "cell_type": "code",
      "execution_count": 51,
      "metadata": {
        "id": "eaZN0OXsBbpc",
        "colab": {
          "base_uri": "https://localhost:8080/"
        },
        "outputId": "5b07853a-3563-421b-f045-a58d088a1aff"
      },
      "outputs": [
        {
          "output_type": "execute_result",
          "data": {
            "text/plain": [
              "(35223, 6)"
            ]
          },
          "metadata": {},
          "execution_count": 51
        }
      ],
      "source": [
        "df.shape"
      ],
      "id": "eaZN0OXsBbpc"
    },
    {
      "cell_type": "code",
      "execution_count": 52,
      "metadata": {
        "id": "Qj_b8xzgBbpd"
      },
      "outputs": [],
      "source": [
        "RANDOM_STATE = 42"
      ],
      "id": "Qj_b8xzgBbpd"
    },
    {
      "cell_type": "markdown",
      "metadata": {
        "id": "wkx7Qr4mBbpd"
      },
      "source": [
        "### Базовая обработка"
      ],
      "id": "wkx7Qr4mBbpd"
    },
    {
      "cell_type": "code",
      "execution_count": 53,
      "metadata": {
        "id": "ZZzYLv83Bbpj"
      },
      "outputs": [],
      "source": [
        "text_transformer = TfidfVectorizer()"
      ],
      "id": "ZZzYLv83Bbpj"
    },
    {
      "cell_type": "code",
      "execution_count": 54,
      "metadata": {
        "id": "4l3au0GgBbpk",
        "colab": {
          "base_uri": "https://localhost:8080/"
        },
        "outputId": "e81d2bc9-e779-42ca-f5fc-74fbfb17703d"
      },
      "outputs": [
        {
          "output_type": "stream",
          "name": "stdout",
          "text": [
            "CPU times: user 7.33 s, sys: 111 ms, total: 7.44 s\n",
            "Wall time: 7.55 s\n"
          ]
        }
      ],
      "source": [
        "%%time\n",
        "text = text_transformer.fit_transform(df['text'])"
      ],
      "id": "4l3au0GgBbpk"
    },
    {
      "cell_type": "code",
      "execution_count": 55,
      "metadata": {
        "id": "zkjvXxndBbpl",
        "colab": {
          "base_uri": "https://localhost:8080/"
        },
        "outputId": "c10ed08d-0134-42bd-e6f2-09827e1ef1a4"
      },
      "outputs": [
        {
          "output_type": "execute_result",
          "data": {
            "text/plain": [
              "5        Как стало известно агентству Ассошиэйтед Пресс...\n",
              "6        В зале игровых автоматов в третьем ярусе подзе...\n",
              "7        Япония приняла решение разморозить кредиты Рос...\n",
              "8        Британцы отмечают сегодня скорбную дату - втор...\n",
              "9        В понедельник директор департамента внешних св...\n",
              "                               ...                        \n",
              "39994    Два тура президентских выборов во Франции прой...\n",
              "39995    В Москве прошла конференция \"РАО \"ЕЭС России\" ...\n",
              "39996    Во вторник Верховный суд Якутии возобновил про...\n",
              "39997    Во вторник Верховный суд Якутии отменил регист...\n",
              "39998    Глава ГТК Михаил Ванин считает возможным увели...\n",
              "Name: text, Length: 35223, dtype: object"
            ]
          },
          "metadata": {},
          "execution_count": 55
        }
      ],
      "source": [
        "df['text']"
      ],
      "id": "zkjvXxndBbpl"
    },
    {
      "cell_type": "code",
      "execution_count": 56,
      "metadata": {
        "id": "9-m0ewmpBbpm",
        "colab": {
          "base_uri": "https://localhost:8080/"
        },
        "outputId": "d8df57c2-8e5c-487f-8e7c-46a4c795a0aa"
      },
      "outputs": [
        {
          "output_type": "execute_result",
          "data": {
            "text/plain": [
              "(35223, 220790)"
            ]
          },
          "metadata": {},
          "execution_count": 56
        }
      ],
      "source": [
        "text.shape"
      ],
      "id": "9-m0ewmpBbpm"
    },
    {
      "cell_type": "code",
      "execution_count": 57,
      "metadata": {
        "id": "q8LVYcX3Bbpn"
      },
      "outputs": [],
      "source": [
        "X_train, X_test, y_train, y_test = train_test_split(text, df['topic'], test_size=0.20, random_state=RANDOM_STATE)"
      ],
      "id": "q8LVYcX3Bbpn"
    },
    {
      "cell_type": "code",
      "execution_count": 58,
      "metadata": {
        "id": "5sqREDVaBbpn",
        "colab": {
          "base_uri": "https://localhost:8080/"
        },
        "outputId": "26aedb0b-9173-4938-fea7-6deb6963bdcc"
      },
      "outputs": [
        {
          "output_type": "execute_result",
          "data": {
            "text/plain": [
              "(28178, 220790)"
            ]
          },
          "metadata": {},
          "execution_count": 58
        }
      ],
      "source": [
        "X_train.shape"
      ],
      "id": "5sqREDVaBbpn"
    },
    {
      "cell_type": "code",
      "execution_count": 59,
      "metadata": {
        "id": "pAc9lz3qBbpo",
        "colab": {
          "base_uri": "https://localhost:8080/"
        },
        "outputId": "7ec9d762-b9d4-48ac-d5a9-8c35a84709d0"
      },
      "outputs": [
        {
          "output_type": "execute_result",
          "data": {
            "text/plain": [
              "(7045, 220790)"
            ]
          },
          "metadata": {},
          "execution_count": 59
        }
      ],
      "source": [
        "X_test.shape"
      ],
      "id": "pAc9lz3qBbpo"
    },
    {
      "cell_type": "code",
      "execution_count": 60,
      "metadata": {
        "id": "PG-Er8PUBbpo",
        "colab": {
          "base_uri": "https://localhost:8080/"
        },
        "outputId": "fa814747-c029-41f1-838f-154324c0e5e5"
      },
      "outputs": [
        {
          "output_type": "stream",
          "name": "stdout",
          "text": [
            "CPU times: user 32 µs, sys: 3 µs, total: 35 µs\n",
            "Wall time: 38.1 µs\n"
          ]
        }
      ],
      "source": [
        "%%time\n",
        "clf = tree.DecisionTreeClassifier()"
      ],
      "id": "PG-Er8PUBbpo"
    },
    {
      "cell_type": "code",
      "execution_count": 61,
      "metadata": {
        "id": "mUhQZvbcBbpp",
        "colab": {
          "base_uri": "https://localhost:8080/",
          "height": 75
        },
        "outputId": "7457adb4-1942-4403-e732-c94ac20eb757"
      },
      "outputs": [
        {
          "output_type": "execute_result",
          "data": {
            "text/plain": [
              "DecisionTreeClassifier()"
            ],
            "text/html": [
              "<style>#sk-container-id-1 {color: black;background-color: white;}#sk-container-id-1 pre{padding: 0;}#sk-container-id-1 div.sk-toggleable {background-color: white;}#sk-container-id-1 label.sk-toggleable__label {cursor: pointer;display: block;width: 100%;margin-bottom: 0;padding: 0.3em;box-sizing: border-box;text-align: center;}#sk-container-id-1 label.sk-toggleable__label-arrow:before {content: \"▸\";float: left;margin-right: 0.25em;color: #696969;}#sk-container-id-1 label.sk-toggleable__label-arrow:hover:before {color: black;}#sk-container-id-1 div.sk-estimator:hover label.sk-toggleable__label-arrow:before {color: black;}#sk-container-id-1 div.sk-toggleable__content {max-height: 0;max-width: 0;overflow: hidden;text-align: left;background-color: #f0f8ff;}#sk-container-id-1 div.sk-toggleable__content pre {margin: 0.2em;color: black;border-radius: 0.25em;background-color: #f0f8ff;}#sk-container-id-1 input.sk-toggleable__control:checked~div.sk-toggleable__content {max-height: 200px;max-width: 100%;overflow: auto;}#sk-container-id-1 input.sk-toggleable__control:checked~label.sk-toggleable__label-arrow:before {content: \"▾\";}#sk-container-id-1 div.sk-estimator input.sk-toggleable__control:checked~label.sk-toggleable__label {background-color: #d4ebff;}#sk-container-id-1 div.sk-label input.sk-toggleable__control:checked~label.sk-toggleable__label {background-color: #d4ebff;}#sk-container-id-1 input.sk-hidden--visually {border: 0;clip: rect(1px 1px 1px 1px);clip: rect(1px, 1px, 1px, 1px);height: 1px;margin: -1px;overflow: hidden;padding: 0;position: absolute;width: 1px;}#sk-container-id-1 div.sk-estimator {font-family: monospace;background-color: #f0f8ff;border: 1px dotted black;border-radius: 0.25em;box-sizing: border-box;margin-bottom: 0.5em;}#sk-container-id-1 div.sk-estimator:hover {background-color: #d4ebff;}#sk-container-id-1 div.sk-parallel-item::after {content: \"\";width: 100%;border-bottom: 1px solid gray;flex-grow: 1;}#sk-container-id-1 div.sk-label:hover label.sk-toggleable__label {background-color: #d4ebff;}#sk-container-id-1 div.sk-serial::before {content: \"\";position: absolute;border-left: 1px solid gray;box-sizing: border-box;top: 0;bottom: 0;left: 50%;z-index: 0;}#sk-container-id-1 div.sk-serial {display: flex;flex-direction: column;align-items: center;background-color: white;padding-right: 0.2em;padding-left: 0.2em;position: relative;}#sk-container-id-1 div.sk-item {position: relative;z-index: 1;}#sk-container-id-1 div.sk-parallel {display: flex;align-items: stretch;justify-content: center;background-color: white;position: relative;}#sk-container-id-1 div.sk-item::before, #sk-container-id-1 div.sk-parallel-item::before {content: \"\";position: absolute;border-left: 1px solid gray;box-sizing: border-box;top: 0;bottom: 0;left: 50%;z-index: -1;}#sk-container-id-1 div.sk-parallel-item {display: flex;flex-direction: column;z-index: 1;position: relative;background-color: white;}#sk-container-id-1 div.sk-parallel-item:first-child::after {align-self: flex-end;width: 50%;}#sk-container-id-1 div.sk-parallel-item:last-child::after {align-self: flex-start;width: 50%;}#sk-container-id-1 div.sk-parallel-item:only-child::after {width: 0;}#sk-container-id-1 div.sk-dashed-wrapped {border: 1px dashed gray;margin: 0 0.4em 0.5em 0.4em;box-sizing: border-box;padding-bottom: 0.4em;background-color: white;}#sk-container-id-1 div.sk-label label {font-family: monospace;font-weight: bold;display: inline-block;line-height: 1.2em;}#sk-container-id-1 div.sk-label-container {text-align: center;}#sk-container-id-1 div.sk-container {/* jupyter's `normalize.less` sets `[hidden] { display: none; }` but bootstrap.min.css set `[hidden] { display: none !important; }` so we also need the `!important` here to be able to override the default hidden behavior on the sphinx rendered scikit-learn.org. See: https://github.com/scikit-learn/scikit-learn/issues/21755 */display: inline-block !important;position: relative;}#sk-container-id-1 div.sk-text-repr-fallback {display: none;}</style><div id=\"sk-container-id-1\" class=\"sk-top-container\"><div class=\"sk-text-repr-fallback\"><pre>DecisionTreeClassifier()</pre><b>In a Jupyter environment, please rerun this cell to show the HTML representation or trust the notebook. <br />On GitHub, the HTML representation is unable to render, please try loading this page with nbviewer.org.</b></div><div class=\"sk-container\" hidden><div class=\"sk-item\"><div class=\"sk-estimator sk-toggleable\"><input class=\"sk-toggleable__control sk-hidden--visually\" id=\"sk-estimator-id-1\" type=\"checkbox\" checked><label for=\"sk-estimator-id-1\" class=\"sk-toggleable__label sk-toggleable__label-arrow\">DecisionTreeClassifier</label><div class=\"sk-toggleable__content\"><pre>DecisionTreeClassifier()</pre></div></div></div></div></div>"
            ]
          },
          "metadata": {},
          "execution_count": 61
        }
      ],
      "source": [
        "clf.fit(X_train,y_train)"
      ],
      "id": "mUhQZvbcBbpp"
    },
    {
      "cell_type": "code",
      "execution_count": 62,
      "metadata": {
        "id": "FErqVQq4Bbpp",
        "colab": {
          "base_uri": "https://localhost:8080/"
        },
        "outputId": "47548216-dcae-4101-9752-514e9c40343b"
      },
      "outputs": [
        {
          "output_type": "stream",
          "name": "stdout",
          "text": [
            "Качество модели по метрике F1 0.7211157243634333\n"
          ]
        }
      ],
      "source": [
        "pred = clf.predict(X_test)\n",
        "print('Качество модели по метрике F1', f1_score(y_test,pred,average='weighted'))"
      ],
      "id": "FErqVQq4Bbpp"
    },
    {
      "cell_type": "markdown",
      "metadata": {
        "id": "r3ckWEdaBbpq"
      },
      "source": [
        "### Изменим токенизатор"
      ],
      "id": "r3ckWEdaBbpq"
    },
    {
      "cell_type": "raw",
      "metadata": {
        "id": "M8IEs0UhBbpr"
      },
      "source": [
        "import nltk\n",
        "import ssl\n",
        "\n",
        "try:\n",
        "    _create_unverified_https_context = ssl._create_unverified_context\n",
        "except AttributeError:\n",
        "    pass\n",
        "else:\n",
        "    ssl._create_default_https_context = _create_unverified_https_context\n",
        "\n",
        "nltk.download()"
      ],
      "id": "M8IEs0UhBbpr"
    },
    {
      "cell_type": "raw",
      "metadata": {
        "id": "NhUcu14XBbps"
      },
      "source": [
        "nltk.download('stopwords')"
      ],
      "id": "NhUcu14XBbps"
    },
    {
      "cell_type": "code",
      "source": [
        "import nltk"
      ],
      "metadata": {
        "id": "sIwV-e3rEeDi"
      },
      "id": "sIwV-e3rEeDi",
      "execution_count": 64,
      "outputs": []
    },
    {
      "cell_type": "code",
      "source": [
        "nltk.download('stopwords')"
      ],
      "metadata": {
        "colab": {
          "base_uri": "https://localhost:8080/"
        },
        "id": "rb43X39mEhl4",
        "outputId": "48ef0814-60f3-4670-bff0-cababa953b2f"
      },
      "id": "rb43X39mEhl4",
      "execution_count": 65,
      "outputs": [
        {
          "output_type": "stream",
          "name": "stderr",
          "text": [
            "[nltk_data] Downloading package stopwords to /root/nltk_data...\n",
            "[nltk_data]   Unzipping corpora/stopwords.zip.\n"
          ]
        },
        {
          "output_type": "execute_result",
          "data": {
            "text/plain": [
              "True"
            ]
          },
          "metadata": {},
          "execution_count": 65
        }
      ]
    },
    {
      "cell_type": "code",
      "execution_count": 66,
      "metadata": {
        "id": "9cJ6YxzgBbps"
      },
      "outputs": [],
      "source": [
        "stop_russian = stopwords.words('russian')"
      ],
      "id": "9cJ6YxzgBbps"
    },
    {
      "cell_type": "code",
      "execution_count": 67,
      "metadata": {
        "id": "5SSybM4SBbpt"
      },
      "outputs": [],
      "source": [
        "text_transformer = TfidfVectorizer(stop_words=stop_russian, \n",
        "                                   ngram_range=(1,1), \n",
        "                                   lowercase=True, \n",
        "                                   max_features=10000 )\n",
        "text = text_transformer.fit_transform(df['text'])\n",
        "X_train, X_test, y_train, y_test = train_test_split(text, df['topic'], test_size=0.2, random_state=RANDOM_STATE)"
      ],
      "id": "5SSybM4SBbpt"
    },
    {
      "cell_type": "code",
      "execution_count": 68,
      "metadata": {
        "id": "7wqInWEhBbpt"
      },
      "outputs": [],
      "source": [
        "from sklearn.ensemble import GradientBoostingClassifier"
      ],
      "id": "7wqInWEhBbpt"
    },
    {
      "cell_type": "code",
      "execution_count": 69,
      "metadata": {
        "id": "I4M3Zhc5Bbp8",
        "outputId": "a4e5612c-cba1-4ae9-aea1-5ec35c6f2bb9",
        "colab": {
          "base_uri": "https://localhost:8080/"
        }
      },
      "outputs": [
        {
          "output_type": "execute_result",
          "data": {
            "text/plain": [
              "(28178, 10000)"
            ]
          },
          "metadata": {},
          "execution_count": 69
        }
      ],
      "source": [
        "X_train.shape"
      ],
      "id": "I4M3Zhc5Bbp8"
    },
    {
      "cell_type": "code",
      "execution_count": 70,
      "metadata": {
        "id": "4_73QtFdBbp9",
        "colab": {
          "base_uri": "https://localhost:8080/",
          "height": 75
        },
        "outputId": "40a1c4fb-1e31-4220-e02b-f2fc67156067"
      },
      "outputs": [
        {
          "output_type": "execute_result",
          "data": {
            "text/plain": [
              "GradientBoostingClassifier()"
            ],
            "text/html": [
              "<style>#sk-container-id-2 {color: black;background-color: white;}#sk-container-id-2 pre{padding: 0;}#sk-container-id-2 div.sk-toggleable {background-color: white;}#sk-container-id-2 label.sk-toggleable__label {cursor: pointer;display: block;width: 100%;margin-bottom: 0;padding: 0.3em;box-sizing: border-box;text-align: center;}#sk-container-id-2 label.sk-toggleable__label-arrow:before {content: \"▸\";float: left;margin-right: 0.25em;color: #696969;}#sk-container-id-2 label.sk-toggleable__label-arrow:hover:before {color: black;}#sk-container-id-2 div.sk-estimator:hover label.sk-toggleable__label-arrow:before {color: black;}#sk-container-id-2 div.sk-toggleable__content {max-height: 0;max-width: 0;overflow: hidden;text-align: left;background-color: #f0f8ff;}#sk-container-id-2 div.sk-toggleable__content pre {margin: 0.2em;color: black;border-radius: 0.25em;background-color: #f0f8ff;}#sk-container-id-2 input.sk-toggleable__control:checked~div.sk-toggleable__content {max-height: 200px;max-width: 100%;overflow: auto;}#sk-container-id-2 input.sk-toggleable__control:checked~label.sk-toggleable__label-arrow:before {content: \"▾\";}#sk-container-id-2 div.sk-estimator input.sk-toggleable__control:checked~label.sk-toggleable__label {background-color: #d4ebff;}#sk-container-id-2 div.sk-label input.sk-toggleable__control:checked~label.sk-toggleable__label {background-color: #d4ebff;}#sk-container-id-2 input.sk-hidden--visually {border: 0;clip: rect(1px 1px 1px 1px);clip: rect(1px, 1px, 1px, 1px);height: 1px;margin: -1px;overflow: hidden;padding: 0;position: absolute;width: 1px;}#sk-container-id-2 div.sk-estimator {font-family: monospace;background-color: #f0f8ff;border: 1px dotted black;border-radius: 0.25em;box-sizing: border-box;margin-bottom: 0.5em;}#sk-container-id-2 div.sk-estimator:hover {background-color: #d4ebff;}#sk-container-id-2 div.sk-parallel-item::after {content: \"\";width: 100%;border-bottom: 1px solid gray;flex-grow: 1;}#sk-container-id-2 div.sk-label:hover label.sk-toggleable__label {background-color: #d4ebff;}#sk-container-id-2 div.sk-serial::before {content: \"\";position: absolute;border-left: 1px solid gray;box-sizing: border-box;top: 0;bottom: 0;left: 50%;z-index: 0;}#sk-container-id-2 div.sk-serial {display: flex;flex-direction: column;align-items: center;background-color: white;padding-right: 0.2em;padding-left: 0.2em;position: relative;}#sk-container-id-2 div.sk-item {position: relative;z-index: 1;}#sk-container-id-2 div.sk-parallel {display: flex;align-items: stretch;justify-content: center;background-color: white;position: relative;}#sk-container-id-2 div.sk-item::before, #sk-container-id-2 div.sk-parallel-item::before {content: \"\";position: absolute;border-left: 1px solid gray;box-sizing: border-box;top: 0;bottom: 0;left: 50%;z-index: -1;}#sk-container-id-2 div.sk-parallel-item {display: flex;flex-direction: column;z-index: 1;position: relative;background-color: white;}#sk-container-id-2 div.sk-parallel-item:first-child::after {align-self: flex-end;width: 50%;}#sk-container-id-2 div.sk-parallel-item:last-child::after {align-self: flex-start;width: 50%;}#sk-container-id-2 div.sk-parallel-item:only-child::after {width: 0;}#sk-container-id-2 div.sk-dashed-wrapped {border: 1px dashed gray;margin: 0 0.4em 0.5em 0.4em;box-sizing: border-box;padding-bottom: 0.4em;background-color: white;}#sk-container-id-2 div.sk-label label {font-family: monospace;font-weight: bold;display: inline-block;line-height: 1.2em;}#sk-container-id-2 div.sk-label-container {text-align: center;}#sk-container-id-2 div.sk-container {/* jupyter's `normalize.less` sets `[hidden] { display: none; }` but bootstrap.min.css set `[hidden] { display: none !important; }` so we also need the `!important` here to be able to override the default hidden behavior on the sphinx rendered scikit-learn.org. See: https://github.com/scikit-learn/scikit-learn/issues/21755 */display: inline-block !important;position: relative;}#sk-container-id-2 div.sk-text-repr-fallback {display: none;}</style><div id=\"sk-container-id-2\" class=\"sk-top-container\"><div class=\"sk-text-repr-fallback\"><pre>GradientBoostingClassifier()</pre><b>In a Jupyter environment, please rerun this cell to show the HTML representation or trust the notebook. <br />On GitHub, the HTML representation is unable to render, please try loading this page with nbviewer.org.</b></div><div class=\"sk-container\" hidden><div class=\"sk-item\"><div class=\"sk-estimator sk-toggleable\"><input class=\"sk-toggleable__control sk-hidden--visually\" id=\"sk-estimator-id-2\" type=\"checkbox\" checked><label for=\"sk-estimator-id-2\" class=\"sk-toggleable__label sk-toggleable__label-arrow\">GradientBoostingClassifier</label><div class=\"sk-toggleable__content\"><pre>GradientBoostingClassifier()</pre></div></div></div></div></div>"
            ]
          },
          "metadata": {},
          "execution_count": 70
        }
      ],
      "source": [
        "clf2 = GradientBoostingClassifier()\n",
        "clf2.fit(X_train,y_train)"
      ],
      "id": "4_73QtFdBbp9"
    },
    {
      "cell_type": "code",
      "execution_count": 71,
      "metadata": {
        "id": "omQE4Rq3Bbp-",
        "colab": {
          "base_uri": "https://localhost:8080/"
        },
        "outputId": "0ca3629d-db7c-4be4-c63a-45e482e6c4ad"
      },
      "outputs": [
        {
          "output_type": "stream",
          "name": "stdout",
          "text": [
            "TRAIN - Качество модели по метрике F1 (токенизатор настроен) 0.8492956747551531\n"
          ]
        }
      ],
      "source": [
        "print('TRAIN - Качество модели по метрике F1 (токенизатор настроен)',\n",
        "      f1_score(y_train,clf2.predict(X_train),average='weighted'))"
      ],
      "id": "omQE4Rq3Bbp-"
    },
    {
      "cell_type": "code",
      "execution_count": 72,
      "metadata": {
        "id": "I1W4hvMOBbp_",
        "colab": {
          "base_uri": "https://localhost:8080/"
        },
        "outputId": "b1e02d66-e73f-40d1-88ba-b2aaee21aa58"
      },
      "outputs": [
        {
          "output_type": "stream",
          "name": "stdout",
          "text": [
            "TEST - Качество модели по метрике F1 (токенизатор настроен) 0.8197913283785708\n",
            "CPU times: user 127 ms, sys: 0 ns, total: 127 ms\n",
            "Wall time: 132 ms\n"
          ]
        }
      ],
      "source": [
        "%%time\n",
        "pred2 = clf2.predict(X_test)\n",
        "print('TEST - Качество модели по метрике F1 (токенизатор настроен)', f1_score(y_test,pred2,average='weighted'))"
      ],
      "id": "I1W4hvMOBbp_"
    },
    {
      "cell_type": "code",
      "execution_count": 73,
      "metadata": {
        "id": "wpJxjhZYBbp_"
      },
      "outputs": [],
      "source": [
        "with open ('transformer.pkl', 'wb') as f:\n",
        "    pickle.dump(text_transformer, f)"
      ],
      "id": "wpJxjhZYBbp_"
    },
    {
      "cell_type": "code",
      "execution_count": 74,
      "metadata": {
        "id": "AM0wdT9mBbqA"
      },
      "outputs": [],
      "source": [
        "with open ('clf.pkl', 'wb') as f:\n",
        "    pickle.dump(clf2, f)"
      ],
      "id": "AM0wdT9mBbqA"
    },
    {
      "cell_type": "code",
      "execution_count": null,
      "metadata": {
        "id": "7wDjm8I-BbqB"
      },
      "outputs": [],
      "source": [],
      "id": "7wDjm8I-BbqB"
    },
    {
      "cell_type": "raw",
      "metadata": {
        "id": "7Q70lsz3BbqB"
      },
      "source": [
        "df['text'] = df['text'].str.replace('/','')"
      ],
      "id": "7Q70lsz3BbqB"
    },
    {
      "cell_type": "markdown",
      "metadata": {
        "id": "pArEJ2ElBbqC"
      },
      "source": [
        "### приведем слова к первой форме"
      ],
      "id": "pArEJ2ElBbqC"
    },
    {
      "cell_type": "code",
      "execution_count": 75,
      "metadata": {
        "id": "8-nUhMAiBbqC"
      },
      "outputs": [],
      "source": [
        "pattern = r'[^А-Яа-я]+'"
      ],
      "id": "8-nUhMAiBbqC"
    },
    {
      "cell_type": "code",
      "execution_count": 76,
      "metadata": {
        "id": "yeKnSmoJBbqD"
      },
      "outputs": [],
      "source": [
        "list = [re.sub(pattern, ' ', i) for i in ['проверкаyyy weyweywt iweiwue ><<++ 238238 ? 123 тест']]"
      ],
      "id": "yeKnSmoJBbqD"
    },
    {
      "cell_type": "code",
      "execution_count": 77,
      "metadata": {
        "id": "2A1pyBpEBbqD",
        "outputId": "04999f60-6b83-4893-f833-75a130224577",
        "colab": {
          "base_uri": "https://localhost:8080/"
        }
      },
      "outputs": [
        {
          "output_type": "execute_result",
          "data": {
            "text/plain": [
              "['проверка тест']"
            ]
          },
          "metadata": {},
          "execution_count": 77
        }
      ],
      "source": [
        "list"
      ],
      "id": "2A1pyBpEBbqD"
    },
    {
      "cell_type": "code",
      "execution_count": 78,
      "metadata": {
        "id": "UGx8urb3BbqF"
      },
      "outputs": [],
      "source": [
        "# функция удаления пунктуации и цифр\n",
        "def remove_trash(list): \n",
        "    pattern = r'[^А-Яа-я]+'\n",
        "    try:\n",
        "      list = [re.sub(pattern, ' ', i) for i in list] \n",
        "#       print (list)\n",
        "    except Exception as e:\n",
        "      print(e)\n",
        "    return list"
      ],
      "id": "UGx8urb3BbqF"
    },
    {
      "cell_type": "code",
      "execution_count": 79,
      "metadata": {
        "id": "znis7ovOBbqG"
      },
      "outputs": [],
      "source": [
        "df['text_clean'] = remove_trash(df['text'])"
      ],
      "id": "znis7ovOBbqG"
    },
    {
      "cell_type": "code",
      "execution_count": 80,
      "metadata": {
        "id": "UDY35tI7BbqH",
        "outputId": "18c895b6-7cb6-4e5d-b81c-73c7d0f278ec",
        "colab": {
          "base_uri": "https://localhost:8080/",
          "height": 206
        }
      },
      "outputs": [
        {
          "output_type": "execute_result",
          "data": {
            "text/plain": [
              "                                                text  \\\n",
              "5  Как стало известно агентству Ассошиэйтед Пресс...   \n",
              "6  В зале игровых автоматов в третьем ярусе подзе...   \n",
              "7  Япония приняла решение разморозить кредиты Рос...   \n",
              "8  Британцы отмечают сегодня скорбную дату - втор...   \n",
              "9  В понедельник директор департамента внешних св...   \n",
              "\n",
              "                                          text_clean  \n",
              "5  Как стало известно агентству Ассошиэйтед Пресс...  \n",
              "6  В зале игровых автоматов в третьем ярусе подзе...  \n",
              "7  Япония приняла решение разморозить кредиты Рос...  \n",
              "8  Британцы отмечают сегодня скорбную дату вторую...  \n",
              "9  В понедельник директор департамента внешних св...  "
            ],
            "text/html": [
              "\n",
              "  <div id=\"df-d2fce757-81ff-4da5-bcfb-e2eae22235a1\">\n",
              "    <div class=\"colab-df-container\">\n",
              "      <div>\n",
              "<style scoped>\n",
              "    .dataframe tbody tr th:only-of-type {\n",
              "        vertical-align: middle;\n",
              "    }\n",
              "\n",
              "    .dataframe tbody tr th {\n",
              "        vertical-align: top;\n",
              "    }\n",
              "\n",
              "    .dataframe thead th {\n",
              "        text-align: right;\n",
              "    }\n",
              "</style>\n",
              "<table border=\"1\" class=\"dataframe\">\n",
              "  <thead>\n",
              "    <tr style=\"text-align: right;\">\n",
              "      <th></th>\n",
              "      <th>text</th>\n",
              "      <th>text_clean</th>\n",
              "    </tr>\n",
              "  </thead>\n",
              "  <tbody>\n",
              "    <tr>\n",
              "      <th>5</th>\n",
              "      <td>Как стало известно агентству Ассошиэйтед Пресс...</td>\n",
              "      <td>Как стало известно агентству Ассошиэйтед Пресс...</td>\n",
              "    </tr>\n",
              "    <tr>\n",
              "      <th>6</th>\n",
              "      <td>В зале игровых автоматов в третьем ярусе подзе...</td>\n",
              "      <td>В зале игровых автоматов в третьем ярусе подзе...</td>\n",
              "    </tr>\n",
              "    <tr>\n",
              "      <th>7</th>\n",
              "      <td>Япония приняла решение разморозить кредиты Рос...</td>\n",
              "      <td>Япония приняла решение разморозить кредиты Рос...</td>\n",
              "    </tr>\n",
              "    <tr>\n",
              "      <th>8</th>\n",
              "      <td>Британцы отмечают сегодня скорбную дату - втор...</td>\n",
              "      <td>Британцы отмечают сегодня скорбную дату вторую...</td>\n",
              "    </tr>\n",
              "    <tr>\n",
              "      <th>9</th>\n",
              "      <td>В понедельник директор департамента внешних св...</td>\n",
              "      <td>В понедельник директор департамента внешних св...</td>\n",
              "    </tr>\n",
              "  </tbody>\n",
              "</table>\n",
              "</div>\n",
              "      <button class=\"colab-df-convert\" onclick=\"convertToInteractive('df-d2fce757-81ff-4da5-bcfb-e2eae22235a1')\"\n",
              "              title=\"Convert this dataframe to an interactive table.\"\n",
              "              style=\"display:none;\">\n",
              "        \n",
              "  <svg xmlns=\"http://www.w3.org/2000/svg\" height=\"24px\"viewBox=\"0 0 24 24\"\n",
              "       width=\"24px\">\n",
              "    <path d=\"M0 0h24v24H0V0z\" fill=\"none\"/>\n",
              "    <path d=\"M18.56 5.44l.94 2.06.94-2.06 2.06-.94-2.06-.94-.94-2.06-.94 2.06-2.06.94zm-11 1L8.5 8.5l.94-2.06 2.06-.94-2.06-.94L8.5 2.5l-.94 2.06-2.06.94zm10 10l.94 2.06.94-2.06 2.06-.94-2.06-.94-.94-2.06-.94 2.06-2.06.94z\"/><path d=\"M17.41 7.96l-1.37-1.37c-.4-.4-.92-.59-1.43-.59-.52 0-1.04.2-1.43.59L10.3 9.45l-7.72 7.72c-.78.78-.78 2.05 0 2.83L4 21.41c.39.39.9.59 1.41.59.51 0 1.02-.2 1.41-.59l7.78-7.78 2.81-2.81c.8-.78.8-2.07 0-2.86zM5.41 20L4 18.59l7.72-7.72 1.47 1.35L5.41 20z\"/>\n",
              "  </svg>\n",
              "      </button>\n",
              "      \n",
              "  <style>\n",
              "    .colab-df-container {\n",
              "      display:flex;\n",
              "      flex-wrap:wrap;\n",
              "      gap: 12px;\n",
              "    }\n",
              "\n",
              "    .colab-df-convert {\n",
              "      background-color: #E8F0FE;\n",
              "      border: none;\n",
              "      border-radius: 50%;\n",
              "      cursor: pointer;\n",
              "      display: none;\n",
              "      fill: #1967D2;\n",
              "      height: 32px;\n",
              "      padding: 0 0 0 0;\n",
              "      width: 32px;\n",
              "    }\n",
              "\n",
              "    .colab-df-convert:hover {\n",
              "      background-color: #E2EBFA;\n",
              "      box-shadow: 0px 1px 2px rgba(60, 64, 67, 0.3), 0px 1px 3px 1px rgba(60, 64, 67, 0.15);\n",
              "      fill: #174EA6;\n",
              "    }\n",
              "\n",
              "    [theme=dark] .colab-df-convert {\n",
              "      background-color: #3B4455;\n",
              "      fill: #D2E3FC;\n",
              "    }\n",
              "\n",
              "    [theme=dark] .colab-df-convert:hover {\n",
              "      background-color: #434B5C;\n",
              "      box-shadow: 0px 1px 3px 1px rgba(0, 0, 0, 0.15);\n",
              "      filter: drop-shadow(0px 1px 2px rgba(0, 0, 0, 0.3));\n",
              "      fill: #FFFFFF;\n",
              "    }\n",
              "  </style>\n",
              "\n",
              "      <script>\n",
              "        const buttonEl =\n",
              "          document.querySelector('#df-d2fce757-81ff-4da5-bcfb-e2eae22235a1 button.colab-df-convert');\n",
              "        buttonEl.style.display =\n",
              "          google.colab.kernel.accessAllowed ? 'block' : 'none';\n",
              "\n",
              "        async function convertToInteractive(key) {\n",
              "          const element = document.querySelector('#df-d2fce757-81ff-4da5-bcfb-e2eae22235a1');\n",
              "          const dataTable =\n",
              "            await google.colab.kernel.invokeFunction('convertToInteractive',\n",
              "                                                     [key], {});\n",
              "          if (!dataTable) return;\n",
              "\n",
              "          const docLinkHtml = 'Like what you see? Visit the ' +\n",
              "            '<a target=\"_blank\" href=https://colab.research.google.com/notebooks/data_table.ipynb>data table notebook</a>'\n",
              "            + ' to learn more about interactive tables.';\n",
              "          element.innerHTML = '';\n",
              "          dataTable['output_type'] = 'display_data';\n",
              "          await google.colab.output.renderOutput(dataTable, element);\n",
              "          const docLink = document.createElement('div');\n",
              "          docLink.innerHTML = docLinkHtml;\n",
              "          element.appendChild(docLink);\n",
              "        }\n",
              "      </script>\n",
              "    </div>\n",
              "  </div>\n",
              "  "
            ]
          },
          "metadata": {},
          "execution_count": 80
        }
      ],
      "source": [
        "df[['text','text_clean']].head()"
      ],
      "id": "UDY35tI7BbqH"
    },
    {
      "cell_type": "code",
      "execution_count": 81,
      "metadata": {
        "id": "kXrwzhbVBbqI",
        "outputId": "9621d385-7717-4de2-fce0-e5f5c55c4dde",
        "colab": {
          "base_uri": "https://localhost:8080/"
        }
      },
      "outputs": [
        {
          "output_type": "execute_result",
          "data": {
            "text/plain": [
              "url           0\n",
              "title         0\n",
              "text          0\n",
              "topic         0\n",
              "tags          0\n",
              "date          0\n",
              "text_clean    0\n",
              "dtype: int64"
            ]
          },
          "metadata": {},
          "execution_count": 81
        }
      ],
      "source": [
        "df.isna().sum()"
      ],
      "id": "kXrwzhbVBbqI"
    },
    {
      "cell_type": "code",
      "execution_count": null,
      "metadata": {
        "id": "xDetLQkSBbqJ"
      },
      "outputs": [],
      "source": [
        "# df = df[~df.text_clean.isna()].copy()"
      ],
      "id": "xDetLQkSBbqJ"
    },
    {
      "cell_type": "code",
      "execution_count": null,
      "metadata": {
        "id": "4mkzxmhlBbqK"
      },
      "outputs": [],
      "source": [
        "#токенизатор удалил мусор"
      ],
      "id": "4mkzxmhlBbqK"
    },
    {
      "cell_type": "code",
      "execution_count": 83,
      "metadata": {
        "id": "TUQXX2YlBbqL"
      },
      "outputs": [],
      "source": [
        "text_transformer = TfidfVectorizer(stop_words=stop_russian, \n",
        "                                   ngram_range=(1,1), \n",
        "                                   lowercase=True, \n",
        "                                   max_features=10000 )\n",
        "text = text_transformer.fit_transform(df['text_clean'])\n",
        "X_train, X_test, y_train, y_test = train_test_split(text, df['topic'], test_size=0.2, random_state=RANDOM_STATE)"
      ],
      "id": "TUQXX2YlBbqL"
    },
    {
      "cell_type": "code",
      "execution_count": 84,
      "metadata": {
        "id": "Wuv8KZT8BbqL",
        "outputId": "d4465ce6-7542-41b2-d384-c32640031f5f",
        "colab": {
          "base_uri": "https://localhost:8080/"
        }
      },
      "outputs": [
        {
          "output_type": "stream",
          "name": "stdout",
          "text": [
            "Качество модели по метрике F1 (токенизатор настроен и убран мусор) 0.38085878368230586\n"
          ]
        }
      ],
      "source": [
        "clf3 = tree.DecisionTreeClassifier(max_depth=3)\n",
        "clf3.fit(X_train,y_train)\n",
        "pred3 = clf3.predict(X_test)\n",
        "print('Качество модели по метрике F1 (токенизатор настроен и убран мусор)', f1_score(y_test,pred3,average='weighted'))"
      ],
      "id": "Wuv8KZT8BbqL"
    },
    {
      "cell_type": "markdown",
      "metadata": {
        "id": "bylffCLmBbqM"
      },
      "source": [
        "### попробуем лемматизацию"
      ],
      "id": "bylffCLmBbqM"
    },
    {
      "cell_type": "code",
      "source": [
        "pip install pymorphy2"
      ],
      "metadata": {
        "colab": {
          "base_uri": "https://localhost:8080/"
        },
        "id": "SZ5J7fddJPe-",
        "outputId": "3dd96a65-fb03-404a-a55e-98969410d920"
      },
      "id": "SZ5J7fddJPe-",
      "execution_count": 87,
      "outputs": [
        {
          "output_type": "stream",
          "name": "stdout",
          "text": [
            "Looking in indexes: https://pypi.org/simple, https://us-python.pkg.dev/colab-wheels/public/simple/\n",
            "Collecting pymorphy2\n",
            "  Downloading pymorphy2-0.9.1-py3-none-any.whl (55 kB)\n",
            "\u001b[2K     \u001b[90m━━━━━━━━━━━━━━━━━━━━━━━━━━━━━━━━━━━━━━━━\u001b[0m \u001b[32m55.5/55.5 kB\u001b[0m \u001b[31m3.2 MB/s\u001b[0m eta \u001b[36m0:00:00\u001b[0m\n",
            "\u001b[?25hCollecting dawg-python>=0.7.1 (from pymorphy2)\n",
            "  Downloading DAWG_Python-0.7.2-py2.py3-none-any.whl (11 kB)\n",
            "Collecting pymorphy2-dicts-ru<3.0,>=2.4 (from pymorphy2)\n",
            "  Downloading pymorphy2_dicts_ru-2.4.417127.4579844-py2.py3-none-any.whl (8.2 MB)\n",
            "\u001b[2K     \u001b[90m━━━━━━━━━━━━━━━━━━━━━━━━━━━━━━━━━━━━━━━━\u001b[0m \u001b[32m8.2/8.2 MB\u001b[0m \u001b[31m56.7 MB/s\u001b[0m eta \u001b[36m0:00:00\u001b[0m\n",
            "\u001b[?25hCollecting docopt>=0.6 (from pymorphy2)\n",
            "  Downloading docopt-0.6.2.tar.gz (25 kB)\n",
            "  Preparing metadata (setup.py) ... \u001b[?25l\u001b[?25hdone\n",
            "Building wheels for collected packages: docopt\n",
            "  Building wheel for docopt (setup.py) ... \u001b[?25l\u001b[?25hdone\n",
            "  Created wheel for docopt: filename=docopt-0.6.2-py2.py3-none-any.whl size=13707 sha256=611f53427fb2c2ec8d2531990439eb7e87f876a57552b37a1b010bf52a69d363\n",
            "  Stored in directory: /root/.cache/pip/wheels/fc/ab/d4/5da2067ac95b36618c629a5f93f809425700506f72c9732fac\n",
            "Successfully built docopt\n",
            "Installing collected packages: pymorphy2-dicts-ru, docopt, dawg-python, pymorphy2\n",
            "Successfully installed dawg-python-0.7.2 docopt-0.6.2 pymorphy2-0.9.1 pymorphy2-dicts-ru-2.4.417127.4579844\n"
          ]
        }
      ]
    },
    {
      "cell_type": "code",
      "source": [
        "import pymorphy2"
      ],
      "metadata": {
        "id": "b_u1xRs-HH1Y"
      },
      "id": "b_u1xRs-HH1Y",
      "execution_count": 88,
      "outputs": []
    },
    {
      "cell_type": "code",
      "execution_count": 89,
      "metadata": {
        "id": "PZYfcNX8BbqN"
      },
      "outputs": [],
      "source": [
        "morph = pymorphy2.MorphAnalyzer()"
      ],
      "id": "PZYfcNX8BbqN"
    },
    {
      "cell_type": "code",
      "execution_count": 90,
      "metadata": {
        "id": "8LWyaIZyBbqO"
      },
      "outputs": [],
      "source": [
        "# функция лемматизации\n",
        "def lemmatize(row):\n",
        "    t = []\n",
        "    text = row['text_clean']\n",
        "    for word in text.split():\n",
        "        if len(word)<=1:\n",
        "            continue\n",
        "        p = morph.parse(word)[0]\n",
        "        t.append(p.normal_form)\n",
        "    return \" \".join(t)"
      ],
      "id": "8LWyaIZyBbqO"
    },
    {
      "cell_type": "code",
      "execution_count": 91,
      "metadata": {
        "id": "XoFDKEruBbqP",
        "outputId": "a1711ecb-df36-4702-fbef-e2366106a198",
        "colab": {
          "base_uri": "https://localhost:8080/"
        }
      },
      "outputs": [
        {
          "output_type": "execute_result",
          "data": {
            "text/plain": [
              "5        Как стало известно агентству Ассошиэйтед Пресс...\n",
              "6        В зале игровых автоматов в третьем ярусе подзе...\n",
              "7        Япония приняла решение разморозить кредиты Рос...\n",
              "8        Британцы отмечают сегодня скорбную дату - втор...\n",
              "9        В понедельник директор департамента внешних св...\n",
              "                               ...                        \n",
              "39994    Два тура президентских выборов во Франции прой...\n",
              "39995    В Москве прошла конференция \"РАО \"ЕЭС России\" ...\n",
              "39996    Во вторник Верховный суд Якутии возобновил про...\n",
              "39997    Во вторник Верховный суд Якутии отменил регист...\n",
              "39998    Глава ГТК Михаил Ванин считает возможным увели...\n",
              "Name: text, Length: 35223, dtype: object"
            ]
          },
          "metadata": {},
          "execution_count": 91
        }
      ],
      "source": [
        "df.text"
      ],
      "id": "XoFDKEruBbqP"
    },
    {
      "cell_type": "code",
      "execution_count": 92,
      "metadata": {
        "id": "Htz013dUBbqQ"
      },
      "outputs": [],
      "source": [
        "t = []\n",
        "text = 'Минфин предлагает увеличить размер штрафа'\n",
        "for word in text.split():\n",
        "    if len(word)<=3:\n",
        "        continue\n",
        "    p = morph.parse(word)[0]\n",
        "    t.append(p.normal_form)"
      ],
      "id": "Htz013dUBbqQ"
    },
    {
      "cell_type": "code",
      "execution_count": 93,
      "metadata": {
        "id": "-nRzxNdGBbqR",
        "outputId": "8b8a2ca3-5489-4318-abe4-de59c2d0d623",
        "colab": {
          "base_uri": "https://localhost:8080/",
          "height": 35
        }
      },
      "outputs": [
        {
          "output_type": "execute_result",
          "data": {
            "text/plain": [
              "'минфин предлагать увеличить размер штраф'"
            ],
            "application/vnd.google.colaboratory.intrinsic+json": {
              "type": "string"
            }
          },
          "metadata": {},
          "execution_count": 93
        }
      ],
      "source": [
        "\" \".join(t)"
      ],
      "id": "-nRzxNdGBbqR"
    },
    {
      "cell_type": "code",
      "execution_count": 94,
      "metadata": {
        "id": "ZVWRdvksBbqS",
        "colab": {
          "base_uri": "https://localhost:8080/"
        },
        "outputId": "2a04958e-c674-4858-9bb2-1df39deea6e6"
      },
      "outputs": [
        {
          "output_type": "stream",
          "name": "stdout",
          "text": [
            "CPU times: user 13min 43s, sys: 1.76 s, total: 13min 45s\n",
            "Wall time: 13min 55s\n"
          ]
        }
      ],
      "source": [
        "%%time\n",
        "df['text_clean_normal'] = df.apply(lemmatize,axis=1)"
      ],
      "id": "ZVWRdvksBbqS"
    },
    {
      "cell_type": "raw",
      "metadata": {
        "id": "g3At-5OGBbqS"
      },
      "source": [
        "# Запись в файл объекта\n",
        "with open('my_newfile.pkl','wb') as f:\n",
        "    pickle.dump(df['text'],f)"
      ],
      "id": "g3At-5OGBbqS"
    },
    {
      "cell_type": "raw",
      "metadata": {
        "id": "2KXKKvZeBbqT"
      },
      "source": [
        "#Чтение объекта в память\n",
        "with open ('my_newfile.pkl','rb') as f:\n",
        "    data_df = pickle.load(f)"
      ],
      "id": "2KXKKvZeBbqT"
    },
    {
      "cell_type": "raw",
      "metadata": {
        "id": "H-yrfmJsBbqT"
      },
      "source": [
        "# пример записи объекта в файл\n",
        "with open('df_norma.pkl','wb') as f:\n",
        "    pickle.dump(df,f)"
      ],
      "id": "H-yrfmJsBbqT"
    },
    {
      "cell_type": "code",
      "execution_count": null,
      "metadata": {
        "id": "or40wqzuBbqU"
      },
      "outputs": [],
      "source": [],
      "id": "or40wqzuBbqU"
    },
    {
      "cell_type": "code",
      "execution_count": null,
      "metadata": {
        "id": "75GtSWzOBbqU"
      },
      "outputs": [],
      "source": [
        "# пример чтения объекта из файла в оперативную память\n",
        "with open('df_norma.pkl','rb') as f:\n",
        "    df = pickle.load(f)"
      ],
      "id": "75GtSWzOBbqU"
    },
    {
      "cell_type": "code",
      "execution_count": 95,
      "metadata": {
        "id": "UQfRf3KkBbqV",
        "colab": {
          "base_uri": "https://localhost:8080/",
          "height": 458
        },
        "outputId": "a91af404-c1f4-486d-c99b-ed52b9c39300"
      },
      "outputs": [
        {
          "output_type": "execute_result",
          "data": {
            "text/plain": [
              "                                             url  \\\n",
              "5  https://lenta.ru/news/1999/08/31/stancia_mir/   \n",
              "6        https://lenta.ru/news/1999/08/31/vzriv/   \n",
              "7  https://lenta.ru/news/1999/08/31/credit_japs/   \n",
              "8        https://lenta.ru/news/1999/08/31/diana/   \n",
              "9          https://lenta.ru/news/1999/08/31/mvf/   \n",
              "\n",
              "                                               title  \\\n",
              "5         Космонавты сомневаются в надежности \"Мира\"   \n",
              "6       Взрыв в центре Москвы: пострадало 30 человек   \n",
              "7  Япония кредитует Россию на полтора миллиарда д...   \n",
              "8           Британцы отмечают двухлетие смерти Дианы   \n",
              "9  Отмытые через Bank of NY деньги не имели отнош...   \n",
              "\n",
              "                                                text   topic tags        date  \\\n",
              "5  Как стало известно агентству Ассошиэйтед Пресс...  Россия  Все  1999/08/31   \n",
              "6  В зале игровых автоматов в третьем ярусе подзе...  Россия  Все  1999/08/31   \n",
              "7  Япония приняла решение разморозить кредиты Рос...  Россия  Все  1999/08/31   \n",
              "8  Британцы отмечают сегодня скорбную дату - втор...     Мир  Все  1999/08/31   \n",
              "9  В понедельник директор департамента внешних св...  Россия  Все  1999/08/31   \n",
              "\n",
              "                                          text_clean  \\\n",
              "5  Как стало известно агентству Ассошиэйтед Пресс...   \n",
              "6  В зале игровых автоматов в третьем ярусе подзе...   \n",
              "7  Япония приняла решение разморозить кредиты Рос...   \n",
              "8  Британцы отмечают сегодня скорбную дату вторую...   \n",
              "9  В понедельник директор департамента внешних св...   \n",
              "\n",
              "                                   text_clean_normal  \n",
              "5  как стать известно агентство ассошиэйтед пресс...  \n",
              "6  зал игровой автомат третий ярус подземный комп...  \n",
              "7  япония принять решение разморозить кредит росс...  \n",
              "8  британец отмечать сегодня скорбный дата вторую...  \n",
              "9  понедельник директор департамент внешний связь...  "
            ],
            "text/html": [
              "\n",
              "  <div id=\"df-a0bfe8b6-23b9-4743-a983-4454b8c782af\">\n",
              "    <div class=\"colab-df-container\">\n",
              "      <div>\n",
              "<style scoped>\n",
              "    .dataframe tbody tr th:only-of-type {\n",
              "        vertical-align: middle;\n",
              "    }\n",
              "\n",
              "    .dataframe tbody tr th {\n",
              "        vertical-align: top;\n",
              "    }\n",
              "\n",
              "    .dataframe thead th {\n",
              "        text-align: right;\n",
              "    }\n",
              "</style>\n",
              "<table border=\"1\" class=\"dataframe\">\n",
              "  <thead>\n",
              "    <tr style=\"text-align: right;\">\n",
              "      <th></th>\n",
              "      <th>url</th>\n",
              "      <th>title</th>\n",
              "      <th>text</th>\n",
              "      <th>topic</th>\n",
              "      <th>tags</th>\n",
              "      <th>date</th>\n",
              "      <th>text_clean</th>\n",
              "      <th>text_clean_normal</th>\n",
              "    </tr>\n",
              "  </thead>\n",
              "  <tbody>\n",
              "    <tr>\n",
              "      <th>5</th>\n",
              "      <td>https://lenta.ru/news/1999/08/31/stancia_mir/</td>\n",
              "      <td>Космонавты сомневаются в надежности \"Мира\"</td>\n",
              "      <td>Как стало известно агентству Ассошиэйтед Пресс...</td>\n",
              "      <td>Россия</td>\n",
              "      <td>Все</td>\n",
              "      <td>1999/08/31</td>\n",
              "      <td>Как стало известно агентству Ассошиэйтед Пресс...</td>\n",
              "      <td>как стать известно агентство ассошиэйтед пресс...</td>\n",
              "    </tr>\n",
              "    <tr>\n",
              "      <th>6</th>\n",
              "      <td>https://lenta.ru/news/1999/08/31/vzriv/</td>\n",
              "      <td>Взрыв в центре Москвы: пострадало 30 человек</td>\n",
              "      <td>В зале игровых автоматов в третьем ярусе подзе...</td>\n",
              "      <td>Россия</td>\n",
              "      <td>Все</td>\n",
              "      <td>1999/08/31</td>\n",
              "      <td>В зале игровых автоматов в третьем ярусе подзе...</td>\n",
              "      <td>зал игровой автомат третий ярус подземный комп...</td>\n",
              "    </tr>\n",
              "    <tr>\n",
              "      <th>7</th>\n",
              "      <td>https://lenta.ru/news/1999/08/31/credit_japs/</td>\n",
              "      <td>Япония кредитует Россию на полтора миллиарда д...</td>\n",
              "      <td>Япония приняла решение разморозить кредиты Рос...</td>\n",
              "      <td>Россия</td>\n",
              "      <td>Все</td>\n",
              "      <td>1999/08/31</td>\n",
              "      <td>Япония приняла решение разморозить кредиты Рос...</td>\n",
              "      <td>япония принять решение разморозить кредит росс...</td>\n",
              "    </tr>\n",
              "    <tr>\n",
              "      <th>8</th>\n",
              "      <td>https://lenta.ru/news/1999/08/31/diana/</td>\n",
              "      <td>Британцы отмечают двухлетие смерти Дианы</td>\n",
              "      <td>Британцы отмечают сегодня скорбную дату - втор...</td>\n",
              "      <td>Мир</td>\n",
              "      <td>Все</td>\n",
              "      <td>1999/08/31</td>\n",
              "      <td>Британцы отмечают сегодня скорбную дату вторую...</td>\n",
              "      <td>британец отмечать сегодня скорбный дата вторую...</td>\n",
              "    </tr>\n",
              "    <tr>\n",
              "      <th>9</th>\n",
              "      <td>https://lenta.ru/news/1999/08/31/mvf/</td>\n",
              "      <td>Отмытые через Bank of NY деньги не имели отнош...</td>\n",
              "      <td>В понедельник директор департамента внешних св...</td>\n",
              "      <td>Россия</td>\n",
              "      <td>Все</td>\n",
              "      <td>1999/08/31</td>\n",
              "      <td>В понедельник директор департамента внешних св...</td>\n",
              "      <td>понедельник директор департамент внешний связь...</td>\n",
              "    </tr>\n",
              "  </tbody>\n",
              "</table>\n",
              "</div>\n",
              "      <button class=\"colab-df-convert\" onclick=\"convertToInteractive('df-a0bfe8b6-23b9-4743-a983-4454b8c782af')\"\n",
              "              title=\"Convert this dataframe to an interactive table.\"\n",
              "              style=\"display:none;\">\n",
              "        \n",
              "  <svg xmlns=\"http://www.w3.org/2000/svg\" height=\"24px\"viewBox=\"0 0 24 24\"\n",
              "       width=\"24px\">\n",
              "    <path d=\"M0 0h24v24H0V0z\" fill=\"none\"/>\n",
              "    <path d=\"M18.56 5.44l.94 2.06.94-2.06 2.06-.94-2.06-.94-.94-2.06-.94 2.06-2.06.94zm-11 1L8.5 8.5l.94-2.06 2.06-.94-2.06-.94L8.5 2.5l-.94 2.06-2.06.94zm10 10l.94 2.06.94-2.06 2.06-.94-2.06-.94-.94-2.06-.94 2.06-2.06.94z\"/><path d=\"M17.41 7.96l-1.37-1.37c-.4-.4-.92-.59-1.43-.59-.52 0-1.04.2-1.43.59L10.3 9.45l-7.72 7.72c-.78.78-.78 2.05 0 2.83L4 21.41c.39.39.9.59 1.41.59.51 0 1.02-.2 1.41-.59l7.78-7.78 2.81-2.81c.8-.78.8-2.07 0-2.86zM5.41 20L4 18.59l7.72-7.72 1.47 1.35L5.41 20z\"/>\n",
              "  </svg>\n",
              "      </button>\n",
              "      \n",
              "  <style>\n",
              "    .colab-df-container {\n",
              "      display:flex;\n",
              "      flex-wrap:wrap;\n",
              "      gap: 12px;\n",
              "    }\n",
              "\n",
              "    .colab-df-convert {\n",
              "      background-color: #E8F0FE;\n",
              "      border: none;\n",
              "      border-radius: 50%;\n",
              "      cursor: pointer;\n",
              "      display: none;\n",
              "      fill: #1967D2;\n",
              "      height: 32px;\n",
              "      padding: 0 0 0 0;\n",
              "      width: 32px;\n",
              "    }\n",
              "\n",
              "    .colab-df-convert:hover {\n",
              "      background-color: #E2EBFA;\n",
              "      box-shadow: 0px 1px 2px rgba(60, 64, 67, 0.3), 0px 1px 3px 1px rgba(60, 64, 67, 0.15);\n",
              "      fill: #174EA6;\n",
              "    }\n",
              "\n",
              "    [theme=dark] .colab-df-convert {\n",
              "      background-color: #3B4455;\n",
              "      fill: #D2E3FC;\n",
              "    }\n",
              "\n",
              "    [theme=dark] .colab-df-convert:hover {\n",
              "      background-color: #434B5C;\n",
              "      box-shadow: 0px 1px 3px 1px rgba(0, 0, 0, 0.15);\n",
              "      filter: drop-shadow(0px 1px 2px rgba(0, 0, 0, 0.3));\n",
              "      fill: #FFFFFF;\n",
              "    }\n",
              "  </style>\n",
              "\n",
              "      <script>\n",
              "        const buttonEl =\n",
              "          document.querySelector('#df-a0bfe8b6-23b9-4743-a983-4454b8c782af button.colab-df-convert');\n",
              "        buttonEl.style.display =\n",
              "          google.colab.kernel.accessAllowed ? 'block' : 'none';\n",
              "\n",
              "        async function convertToInteractive(key) {\n",
              "          const element = document.querySelector('#df-a0bfe8b6-23b9-4743-a983-4454b8c782af');\n",
              "          const dataTable =\n",
              "            await google.colab.kernel.invokeFunction('convertToInteractive',\n",
              "                                                     [key], {});\n",
              "          if (!dataTable) return;\n",
              "\n",
              "          const docLinkHtml = 'Like what you see? Visit the ' +\n",
              "            '<a target=\"_blank\" href=https://colab.research.google.com/notebooks/data_table.ipynb>data table notebook</a>'\n",
              "            + ' to learn more about interactive tables.';\n",
              "          element.innerHTML = '';\n",
              "          dataTable['output_type'] = 'display_data';\n",
              "          await google.colab.output.renderOutput(dataTable, element);\n",
              "          const docLink = document.createElement('div');\n",
              "          docLink.innerHTML = docLinkHtml;\n",
              "          element.appendChild(docLink);\n",
              "        }\n",
              "      </script>\n",
              "    </div>\n",
              "  </div>\n",
              "  "
            ]
          },
          "metadata": {},
          "execution_count": 95
        }
      ],
      "source": [
        "df.head()"
      ],
      "id": "UQfRf3KkBbqV"
    },
    {
      "cell_type": "code",
      "execution_count": 96,
      "metadata": {
        "id": "r7_lz7VnBbqV",
        "colab": {
          "base_uri": "https://localhost:8080/",
          "height": 363
        },
        "outputId": "4252aa1e-1493-42cc-f97b-4cf9cd89ae4e"
      },
      "outputs": [
        {
          "output_type": "execute_result",
          "data": {
            "text/plain": [
              "                                                    text  \\\n",
              "39989  Генеральный прокурор США Джон Эшкрофт (John As...   \n",
              "39990  Бывший артист известнейшей мальчиковый группы ...   \n",
              "39991  Россия прогнозировала возможный односторонний ...   \n",
              "39992  В Москве задержан особо опасный рецидивист, на...   \n",
              "39993  \"Делать сенсацию из того, что наша доблестная ...   \n",
              "39994  Два тура президентских выборов во Франции прой...   \n",
              "39995  В Москве прошла конференция \"РАО \"ЕЭС России\" ...   \n",
              "39996  Во вторник Верховный суд Якутии возобновил про...   \n",
              "39997  Во вторник Верховный суд Якутии отменил регист...   \n",
              "39998  Глава ГТК Михаил Ванин считает возможным увели...   \n",
              "\n",
              "                                       text_clean_normal  \n",
              "39989  генеральный прокурор сша джон эшкрофт в вторни...  \n",
              "39990  бывший артист известный мальчиковый группа бра...  \n",
              "39991  россия прогнозировать возможный односторонний ...  \n",
              "39992  москва задержать особо опасный рецидивист нахо...  \n",
              "39993  делать сенсация из тот что наш доблестный мили...  \n",
              "39994  два тур президентский выборы в франция пройти ...  \n",
              "39995  москва пройти конференция рао еэс россия откры...  \n",
              "39996  в вторник верховный суд якутия возобновить про...  \n",
              "39997  в вторник верховный суд якутия отменить регист...  \n",
              "39998  глава гтк михаил ванин считать возможный увели...  "
            ],
            "text/html": [
              "\n",
              "  <div id=\"df-6bfbc35b-4156-4808-ae69-c83f9feddb72\">\n",
              "    <div class=\"colab-df-container\">\n",
              "      <div>\n",
              "<style scoped>\n",
              "    .dataframe tbody tr th:only-of-type {\n",
              "        vertical-align: middle;\n",
              "    }\n",
              "\n",
              "    .dataframe tbody tr th {\n",
              "        vertical-align: top;\n",
              "    }\n",
              "\n",
              "    .dataframe thead th {\n",
              "        text-align: right;\n",
              "    }\n",
              "</style>\n",
              "<table border=\"1\" class=\"dataframe\">\n",
              "  <thead>\n",
              "    <tr style=\"text-align: right;\">\n",
              "      <th></th>\n",
              "      <th>text</th>\n",
              "      <th>text_clean_normal</th>\n",
              "    </tr>\n",
              "  </thead>\n",
              "  <tbody>\n",
              "    <tr>\n",
              "      <th>39989</th>\n",
              "      <td>Генеральный прокурор США Джон Эшкрофт (John As...</td>\n",
              "      <td>генеральный прокурор сша джон эшкрофт в вторни...</td>\n",
              "    </tr>\n",
              "    <tr>\n",
              "      <th>39990</th>\n",
              "      <td>Бывший артист известнейшей мальчиковый группы ...</td>\n",
              "      <td>бывший артист известный мальчиковый группа бра...</td>\n",
              "    </tr>\n",
              "    <tr>\n",
              "      <th>39991</th>\n",
              "      <td>Россия прогнозировала возможный односторонний ...</td>\n",
              "      <td>россия прогнозировать возможный односторонний ...</td>\n",
              "    </tr>\n",
              "    <tr>\n",
              "      <th>39992</th>\n",
              "      <td>В Москве задержан особо опасный рецидивист, на...</td>\n",
              "      <td>москва задержать особо опасный рецидивист нахо...</td>\n",
              "    </tr>\n",
              "    <tr>\n",
              "      <th>39993</th>\n",
              "      <td>\"Делать сенсацию из того, что наша доблестная ...</td>\n",
              "      <td>делать сенсация из тот что наш доблестный мили...</td>\n",
              "    </tr>\n",
              "    <tr>\n",
              "      <th>39994</th>\n",
              "      <td>Два тура президентских выборов во Франции прой...</td>\n",
              "      <td>два тур президентский выборы в франция пройти ...</td>\n",
              "    </tr>\n",
              "    <tr>\n",
              "      <th>39995</th>\n",
              "      <td>В Москве прошла конференция \"РАО \"ЕЭС России\" ...</td>\n",
              "      <td>москва пройти конференция рао еэс россия откры...</td>\n",
              "    </tr>\n",
              "    <tr>\n",
              "      <th>39996</th>\n",
              "      <td>Во вторник Верховный суд Якутии возобновил про...</td>\n",
              "      <td>в вторник верховный суд якутия возобновить про...</td>\n",
              "    </tr>\n",
              "    <tr>\n",
              "      <th>39997</th>\n",
              "      <td>Во вторник Верховный суд Якутии отменил регист...</td>\n",
              "      <td>в вторник верховный суд якутия отменить регист...</td>\n",
              "    </tr>\n",
              "    <tr>\n",
              "      <th>39998</th>\n",
              "      <td>Глава ГТК Михаил Ванин считает возможным увели...</td>\n",
              "      <td>глава гтк михаил ванин считать возможный увели...</td>\n",
              "    </tr>\n",
              "  </tbody>\n",
              "</table>\n",
              "</div>\n",
              "      <button class=\"colab-df-convert\" onclick=\"convertToInteractive('df-6bfbc35b-4156-4808-ae69-c83f9feddb72')\"\n",
              "              title=\"Convert this dataframe to an interactive table.\"\n",
              "              style=\"display:none;\">\n",
              "        \n",
              "  <svg xmlns=\"http://www.w3.org/2000/svg\" height=\"24px\"viewBox=\"0 0 24 24\"\n",
              "       width=\"24px\">\n",
              "    <path d=\"M0 0h24v24H0V0z\" fill=\"none\"/>\n",
              "    <path d=\"M18.56 5.44l.94 2.06.94-2.06 2.06-.94-2.06-.94-.94-2.06-.94 2.06-2.06.94zm-11 1L8.5 8.5l.94-2.06 2.06-.94-2.06-.94L8.5 2.5l-.94 2.06-2.06.94zm10 10l.94 2.06.94-2.06 2.06-.94-2.06-.94-.94-2.06-.94 2.06-2.06.94z\"/><path d=\"M17.41 7.96l-1.37-1.37c-.4-.4-.92-.59-1.43-.59-.52 0-1.04.2-1.43.59L10.3 9.45l-7.72 7.72c-.78.78-.78 2.05 0 2.83L4 21.41c.39.39.9.59 1.41.59.51 0 1.02-.2 1.41-.59l7.78-7.78 2.81-2.81c.8-.78.8-2.07 0-2.86zM5.41 20L4 18.59l7.72-7.72 1.47 1.35L5.41 20z\"/>\n",
              "  </svg>\n",
              "      </button>\n",
              "      \n",
              "  <style>\n",
              "    .colab-df-container {\n",
              "      display:flex;\n",
              "      flex-wrap:wrap;\n",
              "      gap: 12px;\n",
              "    }\n",
              "\n",
              "    .colab-df-convert {\n",
              "      background-color: #E8F0FE;\n",
              "      border: none;\n",
              "      border-radius: 50%;\n",
              "      cursor: pointer;\n",
              "      display: none;\n",
              "      fill: #1967D2;\n",
              "      height: 32px;\n",
              "      padding: 0 0 0 0;\n",
              "      width: 32px;\n",
              "    }\n",
              "\n",
              "    .colab-df-convert:hover {\n",
              "      background-color: #E2EBFA;\n",
              "      box-shadow: 0px 1px 2px rgba(60, 64, 67, 0.3), 0px 1px 3px 1px rgba(60, 64, 67, 0.15);\n",
              "      fill: #174EA6;\n",
              "    }\n",
              "\n",
              "    [theme=dark] .colab-df-convert {\n",
              "      background-color: #3B4455;\n",
              "      fill: #D2E3FC;\n",
              "    }\n",
              "\n",
              "    [theme=dark] .colab-df-convert:hover {\n",
              "      background-color: #434B5C;\n",
              "      box-shadow: 0px 1px 3px 1px rgba(0, 0, 0, 0.15);\n",
              "      filter: drop-shadow(0px 1px 2px rgba(0, 0, 0, 0.3));\n",
              "      fill: #FFFFFF;\n",
              "    }\n",
              "  </style>\n",
              "\n",
              "      <script>\n",
              "        const buttonEl =\n",
              "          document.querySelector('#df-6bfbc35b-4156-4808-ae69-c83f9feddb72 button.colab-df-convert');\n",
              "        buttonEl.style.display =\n",
              "          google.colab.kernel.accessAllowed ? 'block' : 'none';\n",
              "\n",
              "        async function convertToInteractive(key) {\n",
              "          const element = document.querySelector('#df-6bfbc35b-4156-4808-ae69-c83f9feddb72');\n",
              "          const dataTable =\n",
              "            await google.colab.kernel.invokeFunction('convertToInteractive',\n",
              "                                                     [key], {});\n",
              "          if (!dataTable) return;\n",
              "\n",
              "          const docLinkHtml = 'Like what you see? Visit the ' +\n",
              "            '<a target=\"_blank\" href=https://colab.research.google.com/notebooks/data_table.ipynb>data table notebook</a>'\n",
              "            + ' to learn more about interactive tables.';\n",
              "          element.innerHTML = '';\n",
              "          dataTable['output_type'] = 'display_data';\n",
              "          await google.colab.output.renderOutput(dataTable, element);\n",
              "          const docLink = document.createElement('div');\n",
              "          docLink.innerHTML = docLinkHtml;\n",
              "          element.appendChild(docLink);\n",
              "        }\n",
              "      </script>\n",
              "    </div>\n",
              "  </div>\n",
              "  "
            ]
          },
          "metadata": {},
          "execution_count": 96
        }
      ],
      "source": [
        "df[['text','text_clean_normal']].tail(10)"
      ],
      "id": "r7_lz7VnBbqV"
    },
    {
      "cell_type": "code",
      "execution_count": null,
      "metadata": {
        "id": "mg0sG8R-BbqW"
      },
      "outputs": [],
      "source": [],
      "id": "mg0sG8R-BbqW"
    },
    {
      "cell_type": "markdown",
      "metadata": {
        "id": "9tiuEs2iBbqW"
      },
      "source": [
        "### качество модели после лемматизации"
      ],
      "id": "9tiuEs2iBbqW"
    },
    {
      "cell_type": "code",
      "execution_count": 98,
      "metadata": {
        "id": "bVmBrxvHBbqX"
      },
      "outputs": [],
      "source": [
        "text_transformer = TfidfVectorizer(stop_words=stop_russian, \n",
        "                                   ngram_range=(1,1), \n",
        "                                   lowercase=True, \n",
        "                                   max_features=10000)\n",
        "text_norm = text_transformer.fit_transform(df['text_clean_normal'])\n",
        "X_train, X_test, y_train, y_test = train_test_split(text_norm, df['topic'], test_size=0.20, random_state=RANDOM_STATE)"
      ],
      "id": "bVmBrxvHBbqX"
    },
    {
      "cell_type": "code",
      "execution_count": null,
      "metadata": {
        "id": "KRNk2f0RBbqY"
      },
      "outputs": [],
      "source": [
        "# text_transformer.transform(['Минфин предлагает увеличить размер'])"
      ],
      "id": "KRNk2f0RBbqY"
    },
    {
      "cell_type": "code",
      "execution_count": 99,
      "metadata": {
        "id": "G3ibcKRrBbqY"
      },
      "outputs": [],
      "source": [
        "clf_norm = tree.DecisionTreeClassifier()\n",
        "clf_norm.fit(X_train,y_train)\n",
        "pred_norm = clf_norm.predict(X_test)"
      ],
      "id": "G3ibcKRrBbqY"
    },
    {
      "cell_type": "code",
      "execution_count": null,
      "metadata": {
        "id": "8XBZwpRLBbqZ"
      },
      "outputs": [],
      "source": [
        "# clf_norm.predict(text_transformer.transform(['Минфин предлагает увеличить размер']))"
      ],
      "id": "8XBZwpRLBbqZ"
    },
    {
      "cell_type": "code",
      "execution_count": 100,
      "metadata": {
        "id": "66POJ4tBBbqZ",
        "colab": {
          "base_uri": "https://localhost:8080/"
        },
        "outputId": "68e749c9-687b-43ff-95b9-b0d0c0a3ed05"
      },
      "outputs": [
        {
          "output_type": "stream",
          "name": "stdout",
          "text": [
            "Качество модели по метрике F1 после лемматизации 0.7465218956564681\n"
          ]
        }
      ],
      "source": [
        "\n",
        "print('Качество модели по метрике F1 после лемматизации', f1_score(y_test,pred_norm,average='weighted'))"
      ],
      "id": "66POJ4tBBbqZ"
    },
    {
      "cell_type": "code",
      "execution_count": null,
      "metadata": {
        "id": "V0igUcbdBbqa"
      },
      "outputs": [],
      "source": [],
      "id": "V0igUcbdBbqa"
    }
  ],
  "metadata": {
    "kernelspec": {
      "display_name": "lec_venv",
      "language": "python",
      "name": "lec_venv"
    },
    "language_info": {
      "codemirror_mode": {
        "name": "ipython",
        "version": 3
      },
      "file_extension": ".py",
      "mimetype": "text/x-python",
      "name": "python",
      "nbconvert_exporter": "python",
      "pygments_lexer": "ipython3",
      "version": "3.6.5"
    },
    "colab": {
      "provenance": [],
      "include_colab_link": true
    }
  },
  "nbformat": 4,
  "nbformat_minor": 5
}